{
 "cells": [
  {
   "cell_type": "markdown",
   "metadata": {
    "collapsed": true
   },
   "source": [
    "# Modeling v2 - The New Features "
   ]
  },
  {
   "cell_type": "code",
   "execution_count": 1,
   "metadata": {
    "collapsed": true
   },
   "outputs": [],
   "source": [
    "import pandas as pd\n",
    "from sklearn.metrics import mean_absolute_error\n",
    "from numpy import median\n",
    "from gc import collect\n",
    "\n",
    "# from bokeh.charts import show\n",
    "# from bokeh.plotting import figure\n",
    "# from bokeh.layouts import gridplot\n",
    "# from bokeh.io import output_notebook\n",
    "# output_notebook()\n",
    "\n",
    "import warnings\n",
    "\n",
    "warnings.filterwarnings(\"ignore\")\n",
    "\n",
    "from sklearn.neighbors import NearestNeighbors\n",
    "from sklearn.feature_selection import SelectKBest\n",
    "from sklearn.linear_model import SGDRegressor, Ridge\n",
    "from sklearn.neural_network import MLPRegressor\n",
    "from sklearn.model_selection import cross_val_score"
   ]
  },
  {
   "cell_type": "code",
   "execution_count": 2,
   "metadata": {
    "collapsed": true
   },
   "outputs": [],
   "source": [
    "def column_mode(column):\n",
    "    return column.value_counts().sort_values(ascending=False).index.tolist()[0]\n",
    "\n",
    "def scorer(estimator, X, y):\n",
    "    pred = estimator.predict(X)\n",
    "    return mean_absolute_error(pred, y)\n",
    "\n",
    "def scores(model, train, train_target, test, test_target, k, scorer=scorer):\n",
    "    trained_model = model.fit(train, train_target)\n",
    "    \n",
    "    test_score = scorer(trained_model, test, test_target)\n",
    "    train_score = scorer(trained_model, train, train_target)\n",
    "\n",
    "    cv_scores = cross_val_score(model, train, train_target, cv=k, scoring=scorer)\n",
    "    \n",
    "    return {\"train\": train_score, \"test\": test_score, \"validation\": median(cv_scores)}"
   ]
  },
  {
   "cell_type": "code",
   "execution_count": 3,
   "metadata": {
    "collapsed": true
   },
   "outputs": [],
   "source": [
    "numeric_columns = ['basementsqft', 'bathroomcnt', 'bedroomcnt', \n",
    "                   'threequarterbathnbr', 'finishedfloor1squarefeet', \n",
    "                   'calculatedfinishedsquarefeet', \n",
    "                   'finishedsquarefeet6', 'finishedsquarefeet12', 'finishedsquarefeet13', \n",
    "                   'finishedsquarefeet15', 'finishedsquarefeet50', 'fireplacecnt', \n",
    "                   'fullbathcnt', 'garagecarcnt', 'garagetotalsqft', 'latitude', \n",
    "                   'longitude', 'lotsizesquarefeet', 'poolsizesum', 'roomcnt', 'unitcnt', \n",
    "                   'yardbuildingsqft17', 'yardbuildingsqft26', 'yearbuilt', 'taxamount',\n",
    "                   'structuretaxvaluedollarcnt', 'landtaxvaluedollarcnt']"
   ]
  },
  {
   "cell_type": "markdown",
   "metadata": {},
   "source": [
    "### Geolocalization Data"
   ]
  },
  {
   "cell_type": "code",
   "execution_count": 4,
   "metadata": {},
   "outputs": [
    {
     "data": {
      "text/html": [
       "<div>\n",
       "<style>\n",
       "    .dataframe thead tr:only-child th {\n",
       "        text-align: right;\n",
       "    }\n",
       "\n",
       "    .dataframe thead th {\n",
       "        text-align: left;\n",
       "    }\n",
       "\n",
       "    .dataframe tbody tr th {\n",
       "        vertical-align: top;\n",
       "    }\n",
       "</style>\n",
       "<table border=\"1\" class=\"dataframe\">\n",
       "  <thead>\n",
       "    <tr style=\"text-align: right;\">\n",
       "      <th></th>\n",
       "      <th>parcelid</th>\n",
       "      <th>logerror</th>\n",
       "      <th>latitude</th>\n",
       "      <th>longitude</th>\n",
       "    </tr>\n",
       "  </thead>\n",
       "  <tbody>\n",
       "    <tr>\n",
       "      <th>0</th>\n",
       "      <td>12149460</td>\n",
       "      <td>0.0363</td>\n",
       "      <td>34225911.0</td>\n",
       "      <td>-118238480.0</td>\n",
       "    </tr>\n",
       "    <tr>\n",
       "      <th>1</th>\n",
       "      <td>11962551</td>\n",
       "      <td>0.0218</td>\n",
       "      <td>34109753.0</td>\n",
       "      <td>-118227743.0</td>\n",
       "    </tr>\n",
       "    <tr>\n",
       "      <th>2</th>\n",
       "      <td>10734901</td>\n",
       "      <td>0.0100</td>\n",
       "      <td>34172194.0</td>\n",
       "      <td>-118644314.0</td>\n",
       "    </tr>\n",
       "    <tr>\n",
       "      <th>3</th>\n",
       "      <td>11104067</td>\n",
       "      <td>0.0060</td>\n",
       "      <td>34429140.0</td>\n",
       "      <td>-118466425.0</td>\n",
       "    </tr>\n",
       "    <tr>\n",
       "      <th>4</th>\n",
       "      <td>12678699</td>\n",
       "      <td>-0.0111</td>\n",
       "      <td>33835813.0</td>\n",
       "      <td>-118358044.0</td>\n",
       "    </tr>\n",
       "  </tbody>\n",
       "</table>\n",
       "</div>"
      ],
      "text/plain": [
       "   parcelid  logerror    latitude    longitude\n",
       "0  12149460    0.0363  34225911.0 -118238480.0\n",
       "1  11962551    0.0218  34109753.0 -118227743.0\n",
       "2  10734901    0.0100  34172194.0 -118644314.0\n",
       "3  11104067    0.0060  34429140.0 -118466425.0\n",
       "4  12678699   -0.0111  33835813.0 -118358044.0"
      ]
     },
     "execution_count": 4,
     "metadata": {},
     "output_type": "execute_result"
    }
   ],
   "source": [
    "geoloc_train = pd.read_csv(\"../data/train.csv\")[[\"parcelid\", \"logerror\" ,\"latitude\", \"longitude\"]]\n",
    "geoloc_train = geoloc_train[geoloc_train[\"latitude\"].notnull()]\n",
    "geoloc_train.head()"
   ]
  },
  {
   "cell_type": "code",
   "execution_count": 5,
   "metadata": {},
   "outputs": [
    {
     "data": {
      "text/html": [
       "<div>\n",
       "<style>\n",
       "    .dataframe thead tr:only-child th {\n",
       "        text-align: right;\n",
       "    }\n",
       "\n",
       "    .dataframe thead th {\n",
       "        text-align: left;\n",
       "    }\n",
       "\n",
       "    .dataframe tbody tr th {\n",
       "        vertical-align: top;\n",
       "    }\n",
       "</style>\n",
       "<table border=\"1\" class=\"dataframe\">\n",
       "  <thead>\n",
       "    <tr style=\"text-align: right;\">\n",
       "      <th></th>\n",
       "      <th>parcelid</th>\n",
       "      <th>logerror</th>\n",
       "      <th>latitude</th>\n",
       "      <th>longitude</th>\n",
       "    </tr>\n",
       "  </thead>\n",
       "  <tbody>\n",
       "    <tr>\n",
       "      <th>0</th>\n",
       "      <td>14366692</td>\n",
       "      <td>-0.1684</td>\n",
       "      <td>33668120.0</td>\n",
       "      <td>-117677556.0</td>\n",
       "    </tr>\n",
       "    <tr>\n",
       "      <th>1</th>\n",
       "      <td>12643413</td>\n",
       "      <td>0.0218</td>\n",
       "      <td>33755800.0</td>\n",
       "      <td>-118309000.0</td>\n",
       "    </tr>\n",
       "    <tr>\n",
       "      <th>2</th>\n",
       "      <td>14432541</td>\n",
       "      <td>-0.0050</td>\n",
       "      <td>33485643.0</td>\n",
       "      <td>-117700234.0</td>\n",
       "    </tr>\n",
       "    <tr>\n",
       "      <th>3</th>\n",
       "      <td>11509835</td>\n",
       "      <td>-0.2705</td>\n",
       "      <td>33870089.0</td>\n",
       "      <td>-118402768.0</td>\n",
       "    </tr>\n",
       "    <tr>\n",
       "      <th>4</th>\n",
       "      <td>11672170</td>\n",
       "      <td>-0.0161</td>\n",
       "      <td>34072220.0</td>\n",
       "      <td>-118547322.0</td>\n",
       "    </tr>\n",
       "  </tbody>\n",
       "</table>\n",
       "</div>"
      ],
      "text/plain": [
       "   parcelid  logerror    latitude    longitude\n",
       "0  14366692   -0.1684  33668120.0 -117677556.0\n",
       "1  12643413    0.0218  33755800.0 -118309000.0\n",
       "2  14432541   -0.0050  33485643.0 -117700234.0\n",
       "3  11509835   -0.2705  33870089.0 -118402768.0\n",
       "4  11672170   -0.0161  34072220.0 -118547322.0"
      ]
     },
     "execution_count": 5,
     "metadata": {},
     "output_type": "execute_result"
    }
   ],
   "source": [
    "geoloc_test = pd.read_csv(\"../data/test.csv\")[[\"parcelid\", \"logerror\" ,\"latitude\", \"longitude\"]]\n",
    "\n",
    "for column_name in [\"latitude\", \"longitude\"]:\n",
    "    mode = column_mode(geoloc_test[column_name])\n",
    "    geoloc_test[column_name] = geoloc_test[column_name].fillna(mode)\n",
    "geoloc_test.head()"
   ]
  },
  {
   "cell_type": "code",
   "execution_count": 6,
   "metadata": {
    "collapsed": true
   },
   "outputs": [],
   "source": [
    "nbrs = NearestNeighbors(n_neighbors=4).fit(geoloc_train[[\"latitude\", \"longitude\"]])"
   ]
  },
  {
   "cell_type": "code",
   "execution_count": 7,
   "metadata": {},
   "outputs": [
    {
     "data": {
      "text/html": [
       "<div>\n",
       "<style>\n",
       "    .dataframe thead tr:only-child th {\n",
       "        text-align: right;\n",
       "    }\n",
       "\n",
       "    .dataframe thead th {\n",
       "        text-align: left;\n",
       "    }\n",
       "\n",
       "    .dataframe tbody tr th {\n",
       "        vertical-align: top;\n",
       "    }\n",
       "</style>\n",
       "<table border=\"1\" class=\"dataframe\">\n",
       "  <thead>\n",
       "    <tr style=\"text-align: right;\">\n",
       "      <th></th>\n",
       "      <th>0</th>\n",
       "      <th>1</th>\n",
       "      <th>2</th>\n",
       "      <th>3</th>\n",
       "    </tr>\n",
       "  </thead>\n",
       "  <tbody>\n",
       "    <tr>\n",
       "      <th>0</th>\n",
       "      <td>0</td>\n",
       "      <td>49784</td>\n",
       "      <td>48917</td>\n",
       "      <td>33909</td>\n",
       "    </tr>\n",
       "    <tr>\n",
       "      <th>1</th>\n",
       "      <td>1</td>\n",
       "      <td>5722</td>\n",
       "      <td>45897</td>\n",
       "      <td>48565</td>\n",
       "    </tr>\n",
       "    <tr>\n",
       "      <th>2</th>\n",
       "      <td>2</td>\n",
       "      <td>59270</td>\n",
       "      <td>46722</td>\n",
       "      <td>59939</td>\n",
       "    </tr>\n",
       "    <tr>\n",
       "      <th>3</th>\n",
       "      <td>3</td>\n",
       "      <td>42881</td>\n",
       "      <td>21948</td>\n",
       "      <td>4544</td>\n",
       "    </tr>\n",
       "    <tr>\n",
       "      <th>4</th>\n",
       "      <td>4</td>\n",
       "      <td>59642</td>\n",
       "      <td>5195</td>\n",
       "      <td>40087</td>\n",
       "    </tr>\n",
       "  </tbody>\n",
       "</table>\n",
       "</div>"
      ],
      "text/plain": [
       "   0      1      2      3\n",
       "0  0  49784  48917  33909\n",
       "1  1   5722  45897  48565\n",
       "2  2  59270  46722  59939\n",
       "3  3  42881  21948   4544\n",
       "4  4  59642   5195  40087"
      ]
     },
     "execution_count": 7,
     "metadata": {},
     "output_type": "execute_result"
    }
   ],
   "source": [
    "distances_train, indices_train = nbrs.kneighbors(geoloc_train[[\"latitude\", \"longitude\"]])\n",
    "geoloc_nn_train = pd.DataFrame(indices_train)\n",
    "geoloc_nn_train.head()"
   ]
  },
  {
   "cell_type": "code",
   "execution_count": 8,
   "metadata": {},
   "outputs": [
    {
     "data": {
      "text/html": [
       "<div>\n",
       "<style>\n",
       "    .dataframe thead tr:only-child th {\n",
       "        text-align: right;\n",
       "    }\n",
       "\n",
       "    .dataframe thead th {\n",
       "        text-align: left;\n",
       "    }\n",
       "\n",
       "    .dataframe tbody tr th {\n",
       "        vertical-align: top;\n",
       "    }\n",
       "</style>\n",
       "<table border=\"1\" class=\"dataframe\">\n",
       "  <thead>\n",
       "    <tr style=\"text-align: right;\">\n",
       "      <th></th>\n",
       "      <th>0</th>\n",
       "      <th>1</th>\n",
       "      <th>2</th>\n",
       "      <th>3</th>\n",
       "    </tr>\n",
       "  </thead>\n",
       "  <tbody>\n",
       "    <tr>\n",
       "      <th>0</th>\n",
       "      <td>33827</td>\n",
       "      <td>930</td>\n",
       "      <td>4178</td>\n",
       "      <td>47902</td>\n",
       "    </tr>\n",
       "    <tr>\n",
       "      <th>1</th>\n",
       "      <td>49528</td>\n",
       "      <td>24109</td>\n",
       "      <td>19081</td>\n",
       "      <td>34443</td>\n",
       "    </tr>\n",
       "    <tr>\n",
       "      <th>2</th>\n",
       "      <td>6283</td>\n",
       "      <td>50993</td>\n",
       "      <td>58290</td>\n",
       "      <td>34681</td>\n",
       "    </tr>\n",
       "    <tr>\n",
       "      <th>3</th>\n",
       "      <td>21109</td>\n",
       "      <td>23291</td>\n",
       "      <td>2776</td>\n",
       "      <td>50785</td>\n",
       "    </tr>\n",
       "    <tr>\n",
       "      <th>4</th>\n",
       "      <td>62319</td>\n",
       "      <td>31040</td>\n",
       "      <td>53464</td>\n",
       "      <td>34332</td>\n",
       "    </tr>\n",
       "  </tbody>\n",
       "</table>\n",
       "</div>"
      ],
      "text/plain": [
       "       0      1      2      3\n",
       "0  33827    930   4178  47902\n",
       "1  49528  24109  19081  34443\n",
       "2   6283  50993  58290  34681\n",
       "3  21109  23291   2776  50785\n",
       "4  62319  31040  53464  34332"
      ]
     },
     "execution_count": 8,
     "metadata": {},
     "output_type": "execute_result"
    }
   ],
   "source": [
    "distances_test, indices_test = nbrs.kneighbors(geoloc_test[[\"latitude\", \"longitude\"]])\n",
    "geoloc_nn_test = pd.DataFrame(indices_test)\n",
    "geoloc_nn_test.head()"
   ]
  },
  {
   "cell_type": "markdown",
   "metadata": {},
   "source": [
    "### New feature: 3nn_logerror_median"
   ]
  },
  {
   "cell_type": "markdown",
   "metadata": {},
   "source": [
    "The new feature <b>3nn_logerror_median</b> represents the logerror median of the three known closests neighbors."
   ]
  },
  {
   "cell_type": "code",
   "execution_count": 9,
   "metadata": {
    "collapsed": true
   },
   "outputs": [],
   "source": [
    "def map_index_logerror(index, data):\n",
    "    return data.iloc[index][\"logerror\"]\n",
    "\n",
    "def map_index_parcelid(index, data):\n",
    "    return int(data.iloc[index][\"parcelid\"])\n",
    "\n",
    "def get_n_neighbors_logerror(k, geoloc_data, neighbors_indexes, is_train):\n",
    "    nn_logerror = pd.DataFrame()\n",
    "    if is_train:\n",
    "        from_index = 1\n",
    "    else:\n",
    "        from_index = 0\n",
    "        \n",
    "    k = k + from_index\n",
    "        \n",
    "    print(list(range(from_index, k)))\n",
    "    for column in list(range(from_index, k)):\n",
    "        nn_logerror[str(column)] = neighbors_indexes[column].apply(lambda value: map_index_logerror(value, geoloc_data))\n",
    "\n",
    "    return nn_logerror"
   ]
  },
  {
   "cell_type": "code",
   "execution_count": 10,
   "metadata": {},
   "outputs": [
    {
     "name": "stdout",
     "output_type": "stream",
     "text": [
      "[1, 2]\n"
     ]
    },
    {
     "data": {
      "text/html": [
       "<div>\n",
       "<style>\n",
       "    .dataframe thead tr:only-child th {\n",
       "        text-align: right;\n",
       "    }\n",
       "\n",
       "    .dataframe thead th {\n",
       "        text-align: left;\n",
       "    }\n",
       "\n",
       "    .dataframe tbody tr th {\n",
       "        vertical-align: top;\n",
       "    }\n",
       "</style>\n",
       "<table border=\"1\" class=\"dataframe\">\n",
       "  <thead>\n",
       "    <tr style=\"text-align: right;\">\n",
       "      <th></th>\n",
       "      <th>1</th>\n",
       "      <th>2</th>\n",
       "    </tr>\n",
       "  </thead>\n",
       "  <tbody>\n",
       "    <tr>\n",
       "      <th>0</th>\n",
       "      <td>0.0354</td>\n",
       "      <td>-0.0661</td>\n",
       "    </tr>\n",
       "    <tr>\n",
       "      <th>1</th>\n",
       "      <td>0.1115</td>\n",
       "      <td>0.0677</td>\n",
       "    </tr>\n",
       "    <tr>\n",
       "      <th>2</th>\n",
       "      <td>-0.0398</td>\n",
       "      <td>0.0545</td>\n",
       "    </tr>\n",
       "    <tr>\n",
       "      <th>3</th>\n",
       "      <td>0.0296</td>\n",
       "      <td>0.0060</td>\n",
       "    </tr>\n",
       "    <tr>\n",
       "      <th>4</th>\n",
       "      <td>-0.0315</td>\n",
       "      <td>0.0129</td>\n",
       "    </tr>\n",
       "  </tbody>\n",
       "</table>\n",
       "</div>"
      ],
      "text/plain": [
       "        1       2\n",
       "0  0.0354 -0.0661\n",
       "1  0.1115  0.0677\n",
       "2 -0.0398  0.0545\n",
       "3  0.0296  0.0060\n",
       "4 -0.0315  0.0129"
      ]
     },
     "execution_count": 10,
     "metadata": {},
     "output_type": "execute_result"
    }
   ],
   "source": [
    "nn_logerror_train = get_n_neighbors_logerror(2, geoloc_data=geoloc_train, neighbors_indexes=geoloc_nn_train, is_train=True)\n",
    "nn_logerror_train.head()"
   ]
  },
  {
   "cell_type": "code",
   "execution_count": 11,
   "metadata": {},
   "outputs": [
    {
     "name": "stdout",
     "output_type": "stream",
     "text": [
      "[0, 1]\n"
     ]
    },
    {
     "data": {
      "text/html": [
       "<div>\n",
       "<style>\n",
       "    .dataframe thead tr:only-child th {\n",
       "        text-align: right;\n",
       "    }\n",
       "\n",
       "    .dataframe thead th {\n",
       "        text-align: left;\n",
       "    }\n",
       "\n",
       "    .dataframe tbody tr th {\n",
       "        vertical-align: top;\n",
       "    }\n",
       "</style>\n",
       "<table border=\"1\" class=\"dataframe\">\n",
       "  <thead>\n",
       "    <tr style=\"text-align: right;\">\n",
       "      <th></th>\n",
       "      <th>0</th>\n",
       "      <th>1</th>\n",
       "    </tr>\n",
       "  </thead>\n",
       "  <tbody>\n",
       "    <tr>\n",
       "      <th>0</th>\n",
       "      <td>-0.1625</td>\n",
       "      <td>-0.0471</td>\n",
       "    </tr>\n",
       "    <tr>\n",
       "      <th>1</th>\n",
       "      <td>0.0090</td>\n",
       "      <td>-0.0050</td>\n",
       "    </tr>\n",
       "    <tr>\n",
       "      <th>2</th>\n",
       "      <td>-0.0212</td>\n",
       "      <td>0.0478</td>\n",
       "    </tr>\n",
       "    <tr>\n",
       "      <th>3</th>\n",
       "      <td>-0.0954</td>\n",
       "      <td>0.2343</td>\n",
       "    </tr>\n",
       "    <tr>\n",
       "      <th>4</th>\n",
       "      <td>0.0010</td>\n",
       "      <td>-0.0070</td>\n",
       "    </tr>\n",
       "  </tbody>\n",
       "</table>\n",
       "</div>"
      ],
      "text/plain": [
       "        0       1\n",
       "0 -0.1625 -0.0471\n",
       "1  0.0090 -0.0050\n",
       "2 -0.0212  0.0478\n",
       "3 -0.0954  0.2343\n",
       "4  0.0010 -0.0070"
      ]
     },
     "execution_count": 11,
     "metadata": {},
     "output_type": "execute_result"
    }
   ],
   "source": [
    "nn_logerror_test = get_n_neighbors_logerror(2, geoloc_data=geoloc_train, neighbors_indexes=geoloc_nn_test, is_train=False)\n",
    "nn_logerror_test.head()"
   ]
  },
  {
   "cell_type": "code",
   "execution_count": 12,
   "metadata": {},
   "outputs": [
    {
     "name": "stdout",
     "output_type": "stream",
     "text": [
      "63196\n"
     ]
    },
    {
     "data": {
      "text/html": [
       "<div>\n",
       "<style>\n",
       "    .dataframe thead tr:only-child th {\n",
       "        text-align: right;\n",
       "    }\n",
       "\n",
       "    .dataframe thead th {\n",
       "        text-align: left;\n",
       "    }\n",
       "\n",
       "    .dataframe tbody tr th {\n",
       "        vertical-align: top;\n",
       "    }\n",
       "</style>\n",
       "<table border=\"1\" class=\"dataframe\">\n",
       "  <thead>\n",
       "    <tr style=\"text-align: right;\">\n",
       "      <th></th>\n",
       "      <th>parcelid</th>\n",
       "      <th>logerror</th>\n",
       "      <th>latitude</th>\n",
       "      <th>longitude</th>\n",
       "      <th>nn_logerror_median</th>\n",
       "    </tr>\n",
       "  </thead>\n",
       "  <tbody>\n",
       "    <tr>\n",
       "      <th>0</th>\n",
       "      <td>12149460</td>\n",
       "      <td>0.0363</td>\n",
       "      <td>34225911.0</td>\n",
       "      <td>-118238480.0</td>\n",
       "      <td>-0.01535</td>\n",
       "    </tr>\n",
       "    <tr>\n",
       "      <th>1</th>\n",
       "      <td>11962551</td>\n",
       "      <td>0.0218</td>\n",
       "      <td>34109753.0</td>\n",
       "      <td>-118227743.0</td>\n",
       "      <td>0.08960</td>\n",
       "    </tr>\n",
       "    <tr>\n",
       "      <th>2</th>\n",
       "      <td>10734901</td>\n",
       "      <td>0.0100</td>\n",
       "      <td>34172194.0</td>\n",
       "      <td>-118644314.0</td>\n",
       "      <td>0.00735</td>\n",
       "    </tr>\n",
       "    <tr>\n",
       "      <th>3</th>\n",
       "      <td>11104067</td>\n",
       "      <td>0.0060</td>\n",
       "      <td>34429140.0</td>\n",
       "      <td>-118466425.0</td>\n",
       "      <td>0.01780</td>\n",
       "    </tr>\n",
       "    <tr>\n",
       "      <th>4</th>\n",
       "      <td>12678699</td>\n",
       "      <td>-0.0111</td>\n",
       "      <td>33835813.0</td>\n",
       "      <td>-118358044.0</td>\n",
       "      <td>-0.00930</td>\n",
       "    </tr>\n",
       "  </tbody>\n",
       "</table>\n",
       "</div>"
      ],
      "text/plain": [
       "   parcelid  logerror    latitude    longitude  nn_logerror_median\n",
       "0  12149460    0.0363  34225911.0 -118238480.0            -0.01535\n",
       "1  11962551    0.0218  34109753.0 -118227743.0             0.08960\n",
       "2  10734901    0.0100  34172194.0 -118644314.0             0.00735\n",
       "3  11104067    0.0060  34429140.0 -118466425.0             0.01780\n",
       "4  12678699   -0.0111  33835813.0 -118358044.0            -0.00930"
      ]
     },
     "execution_count": 12,
     "metadata": {},
     "output_type": "execute_result"
    }
   ],
   "source": [
    "nn_logerror_median_train = nn_logerror_train.apply(lambda row: median(row.tolist()), axis=1)\n",
    "geoloc_train[\"nn_logerror_median\"] = nn_logerror_median_train.tolist()\n",
    "print(len(geoloc_train))\n",
    "geoloc_train.head()"
   ]
  },
  {
   "cell_type": "code",
   "execution_count": 13,
   "metadata": {},
   "outputs": [
    {
     "name": "stdout",
     "output_type": "stream",
     "text": [
      "27244\n"
     ]
    },
    {
     "data": {
      "text/html": [
       "<div>\n",
       "<style>\n",
       "    .dataframe thead tr:only-child th {\n",
       "        text-align: right;\n",
       "    }\n",
       "\n",
       "    .dataframe thead th {\n",
       "        text-align: left;\n",
       "    }\n",
       "\n",
       "    .dataframe tbody tr th {\n",
       "        vertical-align: top;\n",
       "    }\n",
       "</style>\n",
       "<table border=\"1\" class=\"dataframe\">\n",
       "  <thead>\n",
       "    <tr style=\"text-align: right;\">\n",
       "      <th></th>\n",
       "      <th>parcelid</th>\n",
       "      <th>logerror</th>\n",
       "      <th>latitude</th>\n",
       "      <th>longitude</th>\n",
       "      <th>nn_logerror_median</th>\n",
       "    </tr>\n",
       "  </thead>\n",
       "  <tbody>\n",
       "    <tr>\n",
       "      <th>0</th>\n",
       "      <td>14366692</td>\n",
       "      <td>-0.1684</td>\n",
       "      <td>33668120.0</td>\n",
       "      <td>-117677556.0</td>\n",
       "      <td>-0.10480</td>\n",
       "    </tr>\n",
       "    <tr>\n",
       "      <th>1</th>\n",
       "      <td>12643413</td>\n",
       "      <td>0.0218</td>\n",
       "      <td>33755800.0</td>\n",
       "      <td>-118309000.0</td>\n",
       "      <td>0.00200</td>\n",
       "    </tr>\n",
       "    <tr>\n",
       "      <th>2</th>\n",
       "      <td>14432541</td>\n",
       "      <td>-0.0050</td>\n",
       "      <td>33485643.0</td>\n",
       "      <td>-117700234.0</td>\n",
       "      <td>0.01330</td>\n",
       "    </tr>\n",
       "    <tr>\n",
       "      <th>3</th>\n",
       "      <td>11509835</td>\n",
       "      <td>-0.2705</td>\n",
       "      <td>33870089.0</td>\n",
       "      <td>-118402768.0</td>\n",
       "      <td>0.06945</td>\n",
       "    </tr>\n",
       "    <tr>\n",
       "      <th>4</th>\n",
       "      <td>11672170</td>\n",
       "      <td>-0.0161</td>\n",
       "      <td>34072220.0</td>\n",
       "      <td>-118547322.0</td>\n",
       "      <td>-0.00300</td>\n",
       "    </tr>\n",
       "  </tbody>\n",
       "</table>\n",
       "</div>"
      ],
      "text/plain": [
       "   parcelid  logerror    latitude    longitude  nn_logerror_median\n",
       "0  14366692   -0.1684  33668120.0 -117677556.0            -0.10480\n",
       "1  12643413    0.0218  33755800.0 -118309000.0             0.00200\n",
       "2  14432541   -0.0050  33485643.0 -117700234.0             0.01330\n",
       "3  11509835   -0.2705  33870089.0 -118402768.0             0.06945\n",
       "4  11672170   -0.0161  34072220.0 -118547322.0            -0.00300"
      ]
     },
     "execution_count": 13,
     "metadata": {},
     "output_type": "execute_result"
    }
   ],
   "source": [
    "nn_logerror_median_test = nn_logerror_test.apply(lambda row: median(row.tolist()), axis=1)\n",
    "geoloc_test[\"nn_logerror_median\"] = nn_logerror_median_test.tolist()\n",
    "print(len(geoloc_test))\n",
    "geoloc_test.head()"
   ]
  },
  {
   "cell_type": "code",
   "execution_count": 14,
   "metadata": {
    "collapsed": true
   },
   "outputs": [],
   "source": [
    "train = pd.read_csv(\"../data/train.csv\", index_col=0)\n",
    "test = pd.read_csv(\"../data/test.csv\", index_col=0)"
   ]
  },
  {
   "cell_type": "code",
   "execution_count": 15,
   "metadata": {},
   "outputs": [
    {
     "data": {
      "text/html": [
       "<div>\n",
       "<style>\n",
       "    .dataframe thead tr:only-child th {\n",
       "        text-align: right;\n",
       "    }\n",
       "\n",
       "    .dataframe thead th {\n",
       "        text-align: left;\n",
       "    }\n",
       "\n",
       "    .dataframe tbody tr th {\n",
       "        vertical-align: top;\n",
       "    }\n",
       "</style>\n",
       "<table border=\"1\" class=\"dataframe\">\n",
       "  <thead>\n",
       "    <tr style=\"text-align: right;\">\n",
       "      <th></th>\n",
       "      <th>parcelid</th>\n",
       "      <th>logerror</th>\n",
       "      <th>transactiondate</th>\n",
       "      <th>airconditioningtypeid</th>\n",
       "      <th>architecturalstyletypeid</th>\n",
       "      <th>basementsqft</th>\n",
       "      <th>bathroomcnt</th>\n",
       "      <th>bedroomcnt</th>\n",
       "      <th>buildingclasstypeid</th>\n",
       "      <th>buildingqualitytypeid</th>\n",
       "      <th>...</th>\n",
       "      <th>fireplaceflag</th>\n",
       "      <th>structuretaxvaluedollarcnt</th>\n",
       "      <th>taxvaluedollarcnt</th>\n",
       "      <th>assessmentyear</th>\n",
       "      <th>landtaxvaluedollarcnt</th>\n",
       "      <th>taxamount</th>\n",
       "      <th>taxdelinquencyflag</th>\n",
       "      <th>taxdelinquencyyear</th>\n",
       "      <th>censustractandblock</th>\n",
       "      <th>nn_logerror_median</th>\n",
       "    </tr>\n",
       "  </thead>\n",
       "  <tbody>\n",
       "    <tr>\n",
       "      <th>0</th>\n",
       "      <td>12149460</td>\n",
       "      <td>0.0363</td>\n",
       "      <td>2016-08-12</td>\n",
       "      <td>1.0</td>\n",
       "      <td>NaN</td>\n",
       "      <td>NaN</td>\n",
       "      <td>3.0</td>\n",
       "      <td>4.0</td>\n",
       "      <td>NaN</td>\n",
       "      <td>4.0</td>\n",
       "      <td>...</td>\n",
       "      <td>NaN</td>\n",
       "      <td>180637.0</td>\n",
       "      <td>722923.0</td>\n",
       "      <td>2015.0</td>\n",
       "      <td>542286.0</td>\n",
       "      <td>8080.91</td>\n",
       "      <td>NaN</td>\n",
       "      <td>NaN</td>\n",
       "      <td>6.037300e+13</td>\n",
       "      <td>-0.01535</td>\n",
       "    </tr>\n",
       "    <tr>\n",
       "      <th>1</th>\n",
       "      <td>11962551</td>\n",
       "      <td>0.0218</td>\n",
       "      <td>2016-03-16</td>\n",
       "      <td>1.0</td>\n",
       "      <td>NaN</td>\n",
       "      <td>NaN</td>\n",
       "      <td>4.0</td>\n",
       "      <td>3.0</td>\n",
       "      <td>NaN</td>\n",
       "      <td>4.0</td>\n",
       "      <td>...</td>\n",
       "      <td>NaN</td>\n",
       "      <td>182151.0</td>\n",
       "      <td>291440.0</td>\n",
       "      <td>2015.0</td>\n",
       "      <td>109289.0</td>\n",
       "      <td>3690.38</td>\n",
       "      <td>NaN</td>\n",
       "      <td>NaN</td>\n",
       "      <td>6.037186e+13</td>\n",
       "      <td>0.08960</td>\n",
       "    </tr>\n",
       "    <tr>\n",
       "      <th>2</th>\n",
       "      <td>10734901</td>\n",
       "      <td>0.0100</td>\n",
       "      <td>2016-08-04</td>\n",
       "      <td>1.0</td>\n",
       "      <td>NaN</td>\n",
       "      <td>NaN</td>\n",
       "      <td>3.0</td>\n",
       "      <td>3.0</td>\n",
       "      <td>NaN</td>\n",
       "      <td>4.0</td>\n",
       "      <td>...</td>\n",
       "      <td>NaN</td>\n",
       "      <td>141380.0</td>\n",
       "      <td>193171.0</td>\n",
       "      <td>2015.0</td>\n",
       "      <td>51791.0</td>\n",
       "      <td>6234.70</td>\n",
       "      <td>NaN</td>\n",
       "      <td>NaN</td>\n",
       "      <td>6.037137e+13</td>\n",
       "      <td>0.00735</td>\n",
       "    </tr>\n",
       "    <tr>\n",
       "      <th>3</th>\n",
       "      <td>11104067</td>\n",
       "      <td>0.0060</td>\n",
       "      <td>2016-05-17</td>\n",
       "      <td>NaN</td>\n",
       "      <td>NaN</td>\n",
       "      <td>NaN</td>\n",
       "      <td>3.0</td>\n",
       "      <td>4.0</td>\n",
       "      <td>NaN</td>\n",
       "      <td>7.0</td>\n",
       "      <td>...</td>\n",
       "      <td>NaN</td>\n",
       "      <td>163569.0</td>\n",
       "      <td>272612.0</td>\n",
       "      <td>2015.0</td>\n",
       "      <td>109043.0</td>\n",
       "      <td>4848.37</td>\n",
       "      <td>NaN</td>\n",
       "      <td>NaN</td>\n",
       "      <td>6.037920e+13</td>\n",
       "      <td>0.01780</td>\n",
       "    </tr>\n",
       "    <tr>\n",
       "      <th>4</th>\n",
       "      <td>12678699</td>\n",
       "      <td>-0.0111</td>\n",
       "      <td>2016-04-29</td>\n",
       "      <td>NaN</td>\n",
       "      <td>NaN</td>\n",
       "      <td>NaN</td>\n",
       "      <td>2.0</td>\n",
       "      <td>3.0</td>\n",
       "      <td>NaN</td>\n",
       "      <td>7.0</td>\n",
       "      <td>...</td>\n",
       "      <td>NaN</td>\n",
       "      <td>27108.0</td>\n",
       "      <td>91344.0</td>\n",
       "      <td>2015.0</td>\n",
       "      <td>64236.0</td>\n",
       "      <td>1305.15</td>\n",
       "      <td>NaN</td>\n",
       "      <td>NaN</td>\n",
       "      <td>6.037651e+13</td>\n",
       "      <td>-0.00930</td>\n",
       "    </tr>\n",
       "  </tbody>\n",
       "</table>\n",
       "<p>5 rows × 61 columns</p>\n",
       "</div>"
      ],
      "text/plain": [
       "   parcelid  logerror transactiondate  airconditioningtypeid  \\\n",
       "0  12149460    0.0363      2016-08-12                    1.0   \n",
       "1  11962551    0.0218      2016-03-16                    1.0   \n",
       "2  10734901    0.0100      2016-08-04                    1.0   \n",
       "3  11104067    0.0060      2016-05-17                    NaN   \n",
       "4  12678699   -0.0111      2016-04-29                    NaN   \n",
       "\n",
       "   architecturalstyletypeid  basementsqft  bathroomcnt  bedroomcnt  \\\n",
       "0                       NaN           NaN          3.0         4.0   \n",
       "1                       NaN           NaN          4.0         3.0   \n",
       "2                       NaN           NaN          3.0         3.0   \n",
       "3                       NaN           NaN          3.0         4.0   \n",
       "4                       NaN           NaN          2.0         3.0   \n",
       "\n",
       "   buildingclasstypeid  buildingqualitytypeid         ...          \\\n",
       "0                  NaN                    4.0         ...           \n",
       "1                  NaN                    4.0         ...           \n",
       "2                  NaN                    4.0         ...           \n",
       "3                  NaN                    7.0         ...           \n",
       "4                  NaN                    7.0         ...           \n",
       "\n",
       "   fireplaceflag  structuretaxvaluedollarcnt  taxvaluedollarcnt  \\\n",
       "0            NaN                    180637.0           722923.0   \n",
       "1            NaN                    182151.0           291440.0   \n",
       "2            NaN                    141380.0           193171.0   \n",
       "3            NaN                    163569.0           272612.0   \n",
       "4            NaN                     27108.0            91344.0   \n",
       "\n",
       "   assessmentyear  landtaxvaluedollarcnt  taxamount  taxdelinquencyflag  \\\n",
       "0          2015.0               542286.0    8080.91                 NaN   \n",
       "1          2015.0               109289.0    3690.38                 NaN   \n",
       "2          2015.0                51791.0    6234.70                 NaN   \n",
       "3          2015.0               109043.0    4848.37                 NaN   \n",
       "4          2015.0                64236.0    1305.15                 NaN   \n",
       "\n",
       "   taxdelinquencyyear  censustractandblock  nn_logerror_median  \n",
       "0                 NaN         6.037300e+13            -0.01535  \n",
       "1                 NaN         6.037186e+13             0.08960  \n",
       "2                 NaN         6.037137e+13             0.00735  \n",
       "3                 NaN         6.037920e+13             0.01780  \n",
       "4                 NaN         6.037651e+13            -0.00930  \n",
       "\n",
       "[5 rows x 61 columns]"
      ]
     },
     "execution_count": 15,
     "metadata": {},
     "output_type": "execute_result"
    }
   ],
   "source": [
    "train = train.merge(geoloc_train[[\"parcelid\", \"nn_logerror_median\"]], on=\"parcelid\", how=\"inner\") \n",
    "train.head()"
   ]
  },
  {
   "cell_type": "code",
   "execution_count": 16,
   "metadata": {},
   "outputs": [
    {
     "data": {
      "text/html": [
       "<div>\n",
       "<style>\n",
       "    .dataframe thead tr:only-child th {\n",
       "        text-align: right;\n",
       "    }\n",
       "\n",
       "    .dataframe thead th {\n",
       "        text-align: left;\n",
       "    }\n",
       "\n",
       "    .dataframe tbody tr th {\n",
       "        vertical-align: top;\n",
       "    }\n",
       "</style>\n",
       "<table border=\"1\" class=\"dataframe\">\n",
       "  <thead>\n",
       "    <tr style=\"text-align: right;\">\n",
       "      <th></th>\n",
       "      <th>parcelid</th>\n",
       "      <th>logerror</th>\n",
       "      <th>transactiondate</th>\n",
       "      <th>airconditioningtypeid</th>\n",
       "      <th>architecturalstyletypeid</th>\n",
       "      <th>basementsqft</th>\n",
       "      <th>bathroomcnt</th>\n",
       "      <th>bedroomcnt</th>\n",
       "      <th>buildingclasstypeid</th>\n",
       "      <th>buildingqualitytypeid</th>\n",
       "      <th>...</th>\n",
       "      <th>fireplaceflag</th>\n",
       "      <th>structuretaxvaluedollarcnt</th>\n",
       "      <th>taxvaluedollarcnt</th>\n",
       "      <th>assessmentyear</th>\n",
       "      <th>landtaxvaluedollarcnt</th>\n",
       "      <th>taxamount</th>\n",
       "      <th>taxdelinquencyflag</th>\n",
       "      <th>taxdelinquencyyear</th>\n",
       "      <th>censustractandblock</th>\n",
       "      <th>nn_logerror_median</th>\n",
       "    </tr>\n",
       "  </thead>\n",
       "  <tbody>\n",
       "    <tr>\n",
       "      <th>0</th>\n",
       "      <td>14366692</td>\n",
       "      <td>-0.1684</td>\n",
       "      <td>2016-01-01</td>\n",
       "      <td>NaN</td>\n",
       "      <td>NaN</td>\n",
       "      <td>NaN</td>\n",
       "      <td>3.5</td>\n",
       "      <td>4.0</td>\n",
       "      <td>NaN</td>\n",
       "      <td>NaN</td>\n",
       "      <td>...</td>\n",
       "      <td>NaN</td>\n",
       "      <td>346458.0</td>\n",
       "      <td>585529.0</td>\n",
       "      <td>2015.0</td>\n",
       "      <td>239071.0</td>\n",
       "      <td>10153.02</td>\n",
       "      <td>NaN</td>\n",
       "      <td>NaN</td>\n",
       "      <td>NaN</td>\n",
       "      <td>-0.10480</td>\n",
       "    </tr>\n",
       "    <tr>\n",
       "      <th>1</th>\n",
       "      <td>12643413</td>\n",
       "      <td>0.0218</td>\n",
       "      <td>2016-01-02</td>\n",
       "      <td>1.0</td>\n",
       "      <td>NaN</td>\n",
       "      <td>NaN</td>\n",
       "      <td>2.0</td>\n",
       "      <td>2.0</td>\n",
       "      <td>NaN</td>\n",
       "      <td>4.0</td>\n",
       "      <td>...</td>\n",
       "      <td>NaN</td>\n",
       "      <td>171518.0</td>\n",
       "      <td>244880.0</td>\n",
       "      <td>2015.0</td>\n",
       "      <td>73362.0</td>\n",
       "      <td>3048.74</td>\n",
       "      <td>NaN</td>\n",
       "      <td>NaN</td>\n",
       "      <td>6.037296e+13</td>\n",
       "      <td>0.00200</td>\n",
       "    </tr>\n",
       "    <tr>\n",
       "      <th>2</th>\n",
       "      <td>14432541</td>\n",
       "      <td>-0.0050</td>\n",
       "      <td>2016-01-02</td>\n",
       "      <td>NaN</td>\n",
       "      <td>NaN</td>\n",
       "      <td>NaN</td>\n",
       "      <td>2.5</td>\n",
       "      <td>4.0</td>\n",
       "      <td>NaN</td>\n",
       "      <td>NaN</td>\n",
       "      <td>...</td>\n",
       "      <td>NaN</td>\n",
       "      <td>169574.0</td>\n",
       "      <td>434551.0</td>\n",
       "      <td>2015.0</td>\n",
       "      <td>264977.0</td>\n",
       "      <td>5488.96</td>\n",
       "      <td>NaN</td>\n",
       "      <td>NaN</td>\n",
       "      <td>6.059042e+13</td>\n",
       "      <td>0.01330</td>\n",
       "    </tr>\n",
       "    <tr>\n",
       "      <th>3</th>\n",
       "      <td>11509835</td>\n",
       "      <td>-0.2705</td>\n",
       "      <td>2016-01-02</td>\n",
       "      <td>1.0</td>\n",
       "      <td>NaN</td>\n",
       "      <td>NaN</td>\n",
       "      <td>4.0</td>\n",
       "      <td>4.0</td>\n",
       "      <td>NaN</td>\n",
       "      <td>1.0</td>\n",
       "      <td>...</td>\n",
       "      <td>NaN</td>\n",
       "      <td>880650.0</td>\n",
       "      <td>2447951.0</td>\n",
       "      <td>2015.0</td>\n",
       "      <td>1567301.0</td>\n",
       "      <td>27126.57</td>\n",
       "      <td>NaN</td>\n",
       "      <td>NaN</td>\n",
       "      <td>6.037621e+13</td>\n",
       "      <td>0.06945</td>\n",
       "    </tr>\n",
       "    <tr>\n",
       "      <th>4</th>\n",
       "      <td>11672170</td>\n",
       "      <td>-0.0161</td>\n",
       "      <td>2016-01-03</td>\n",
       "      <td>1.0</td>\n",
       "      <td>NaN</td>\n",
       "      <td>NaN</td>\n",
       "      <td>4.0</td>\n",
       "      <td>5.0</td>\n",
       "      <td>NaN</td>\n",
       "      <td>1.0</td>\n",
       "      <td>...</td>\n",
       "      <td>NaN</td>\n",
       "      <td>559040.0</td>\n",
       "      <td>1090127.0</td>\n",
       "      <td>2015.0</td>\n",
       "      <td>531087.0</td>\n",
       "      <td>13428.94</td>\n",
       "      <td>NaN</td>\n",
       "      <td>NaN</td>\n",
       "      <td>6.037263e+13</td>\n",
       "      <td>-0.00300</td>\n",
       "    </tr>\n",
       "  </tbody>\n",
       "</table>\n",
       "<p>5 rows × 61 columns</p>\n",
       "</div>"
      ],
      "text/plain": [
       "   parcelid  logerror transactiondate  airconditioningtypeid  \\\n",
       "0  14366692   -0.1684      2016-01-01                    NaN   \n",
       "1  12643413    0.0218      2016-01-02                    1.0   \n",
       "2  14432541   -0.0050      2016-01-02                    NaN   \n",
       "3  11509835   -0.2705      2016-01-02                    1.0   \n",
       "4  11672170   -0.0161      2016-01-03                    1.0   \n",
       "\n",
       "   architecturalstyletypeid  basementsqft  bathroomcnt  bedroomcnt  \\\n",
       "0                       NaN           NaN          3.5         4.0   \n",
       "1                       NaN           NaN          2.0         2.0   \n",
       "2                       NaN           NaN          2.5         4.0   \n",
       "3                       NaN           NaN          4.0         4.0   \n",
       "4                       NaN           NaN          4.0         5.0   \n",
       "\n",
       "   buildingclasstypeid  buildingqualitytypeid         ...          \\\n",
       "0                  NaN                    NaN         ...           \n",
       "1                  NaN                    4.0         ...           \n",
       "2                  NaN                    NaN         ...           \n",
       "3                  NaN                    1.0         ...           \n",
       "4                  NaN                    1.0         ...           \n",
       "\n",
       "   fireplaceflag  structuretaxvaluedollarcnt  taxvaluedollarcnt  \\\n",
       "0            NaN                    346458.0           585529.0   \n",
       "1            NaN                    171518.0           244880.0   \n",
       "2            NaN                    169574.0           434551.0   \n",
       "3            NaN                    880650.0          2447951.0   \n",
       "4            NaN                    559040.0          1090127.0   \n",
       "\n",
       "   assessmentyear  landtaxvaluedollarcnt  taxamount  taxdelinquencyflag  \\\n",
       "0          2015.0               239071.0   10153.02                 NaN   \n",
       "1          2015.0                73362.0    3048.74                 NaN   \n",
       "2          2015.0               264977.0    5488.96                 NaN   \n",
       "3          2015.0              1567301.0   27126.57                 NaN   \n",
       "4          2015.0               531087.0   13428.94                 NaN   \n",
       "\n",
       "   taxdelinquencyyear  censustractandblock  nn_logerror_median  \n",
       "0                 NaN                  NaN            -0.10480  \n",
       "1                 NaN         6.037296e+13             0.00200  \n",
       "2                 NaN         6.059042e+13             0.01330  \n",
       "3                 NaN         6.037621e+13             0.06945  \n",
       "4                 NaN         6.037263e+13            -0.00300  \n",
       "\n",
       "[5 rows x 61 columns]"
      ]
     },
     "execution_count": 16,
     "metadata": {},
     "output_type": "execute_result"
    }
   ],
   "source": [
    "test = test.merge(geoloc_test[[\"parcelid\", \"nn_logerror_median\"]], on=\"parcelid\", how=\"inner\") \n",
    "test.head()"
   ]
  },
  {
   "cell_type": "markdown",
   "metadata": {},
   "source": [
    "### Missing Values"
   ]
  },
  {
   "cell_type": "code",
   "execution_count": 17,
   "metadata": {},
   "outputs": [
    {
     "data": {
      "text/html": [
       "<div>\n",
       "<style>\n",
       "    .dataframe thead tr:only-child th {\n",
       "        text-align: right;\n",
       "    }\n",
       "\n",
       "    .dataframe thead th {\n",
       "        text-align: left;\n",
       "    }\n",
       "\n",
       "    .dataframe tbody tr th {\n",
       "        vertical-align: top;\n",
       "    }\n",
       "</style>\n",
       "<table border=\"1\" class=\"dataframe\">\n",
       "  <thead>\n",
       "    <tr style=\"text-align: right;\">\n",
       "      <th></th>\n",
       "      <th>parcelid</th>\n",
       "      <th>logerror</th>\n",
       "      <th>transactiondate</th>\n",
       "      <th>airconditioningtypeid</th>\n",
       "      <th>architecturalstyletypeid</th>\n",
       "      <th>basementsqft</th>\n",
       "      <th>bathroomcnt</th>\n",
       "      <th>bedroomcnt</th>\n",
       "      <th>buildingclasstypeid</th>\n",
       "      <th>buildingqualitytypeid</th>\n",
       "      <th>...</th>\n",
       "      <th>fireplaceflag</th>\n",
       "      <th>structuretaxvaluedollarcnt</th>\n",
       "      <th>taxvaluedollarcnt</th>\n",
       "      <th>assessmentyear</th>\n",
       "      <th>landtaxvaluedollarcnt</th>\n",
       "      <th>taxamount</th>\n",
       "      <th>taxdelinquencyflag</th>\n",
       "      <th>taxdelinquencyyear</th>\n",
       "      <th>censustractandblock</th>\n",
       "      <th>nn_logerror_median</th>\n",
       "    </tr>\n",
       "  </thead>\n",
       "  <tbody>\n",
       "    <tr>\n",
       "      <th>0</th>\n",
       "      <td>12149460</td>\n",
       "      <td>0.0363</td>\n",
       "      <td>2016-08-12</td>\n",
       "      <td>1.0</td>\n",
       "      <td>7.0</td>\n",
       "      <td>1528.0</td>\n",
       "      <td>3.0</td>\n",
       "      <td>4.0</td>\n",
       "      <td>4.0</td>\n",
       "      <td>4.0</td>\n",
       "      <td>...</td>\n",
       "      <td>True</td>\n",
       "      <td>180637.0</td>\n",
       "      <td>722923.0</td>\n",
       "      <td>2015.0</td>\n",
       "      <td>542286.0</td>\n",
       "      <td>8080.91</td>\n",
       "      <td>Y</td>\n",
       "      <td>14.0</td>\n",
       "      <td>6.037300e+13</td>\n",
       "      <td>-0.01535</td>\n",
       "    </tr>\n",
       "    <tr>\n",
       "      <th>1</th>\n",
       "      <td>11962551</td>\n",
       "      <td>0.0218</td>\n",
       "      <td>2016-03-16</td>\n",
       "      <td>1.0</td>\n",
       "      <td>7.0</td>\n",
       "      <td>1528.0</td>\n",
       "      <td>4.0</td>\n",
       "      <td>3.0</td>\n",
       "      <td>4.0</td>\n",
       "      <td>4.0</td>\n",
       "      <td>...</td>\n",
       "      <td>True</td>\n",
       "      <td>182151.0</td>\n",
       "      <td>291440.0</td>\n",
       "      <td>2015.0</td>\n",
       "      <td>109289.0</td>\n",
       "      <td>3690.38</td>\n",
       "      <td>Y</td>\n",
       "      <td>14.0</td>\n",
       "      <td>6.037186e+13</td>\n",
       "      <td>0.08960</td>\n",
       "    </tr>\n",
       "    <tr>\n",
       "      <th>2</th>\n",
       "      <td>10734901</td>\n",
       "      <td>0.0100</td>\n",
       "      <td>2016-08-04</td>\n",
       "      <td>1.0</td>\n",
       "      <td>7.0</td>\n",
       "      <td>1528.0</td>\n",
       "      <td>3.0</td>\n",
       "      <td>3.0</td>\n",
       "      <td>4.0</td>\n",
       "      <td>4.0</td>\n",
       "      <td>...</td>\n",
       "      <td>True</td>\n",
       "      <td>141380.0</td>\n",
       "      <td>193171.0</td>\n",
       "      <td>2015.0</td>\n",
       "      <td>51791.0</td>\n",
       "      <td>6234.70</td>\n",
       "      <td>Y</td>\n",
       "      <td>14.0</td>\n",
       "      <td>6.037137e+13</td>\n",
       "      <td>0.00735</td>\n",
       "    </tr>\n",
       "    <tr>\n",
       "      <th>3</th>\n",
       "      <td>11104067</td>\n",
       "      <td>0.0060</td>\n",
       "      <td>2016-05-17</td>\n",
       "      <td>1.0</td>\n",
       "      <td>7.0</td>\n",
       "      <td>1528.0</td>\n",
       "      <td>3.0</td>\n",
       "      <td>4.0</td>\n",
       "      <td>4.0</td>\n",
       "      <td>7.0</td>\n",
       "      <td>...</td>\n",
       "      <td>True</td>\n",
       "      <td>163569.0</td>\n",
       "      <td>272612.0</td>\n",
       "      <td>2015.0</td>\n",
       "      <td>109043.0</td>\n",
       "      <td>4848.37</td>\n",
       "      <td>Y</td>\n",
       "      <td>14.0</td>\n",
       "      <td>6.037920e+13</td>\n",
       "      <td>0.01780</td>\n",
       "    </tr>\n",
       "    <tr>\n",
       "      <th>4</th>\n",
       "      <td>12678699</td>\n",
       "      <td>-0.0111</td>\n",
       "      <td>2016-04-29</td>\n",
       "      <td>1.0</td>\n",
       "      <td>7.0</td>\n",
       "      <td>1528.0</td>\n",
       "      <td>2.0</td>\n",
       "      <td>3.0</td>\n",
       "      <td>4.0</td>\n",
       "      <td>7.0</td>\n",
       "      <td>...</td>\n",
       "      <td>True</td>\n",
       "      <td>27108.0</td>\n",
       "      <td>91344.0</td>\n",
       "      <td>2015.0</td>\n",
       "      <td>64236.0</td>\n",
       "      <td>1305.15</td>\n",
       "      <td>Y</td>\n",
       "      <td>14.0</td>\n",
       "      <td>6.037651e+13</td>\n",
       "      <td>-0.00930</td>\n",
       "    </tr>\n",
       "  </tbody>\n",
       "</table>\n",
       "<p>5 rows × 61 columns</p>\n",
       "</div>"
      ],
      "text/plain": [
       "   parcelid  logerror transactiondate  airconditioningtypeid  \\\n",
       "0  12149460    0.0363      2016-08-12                    1.0   \n",
       "1  11962551    0.0218      2016-03-16                    1.0   \n",
       "2  10734901    0.0100      2016-08-04                    1.0   \n",
       "3  11104067    0.0060      2016-05-17                    1.0   \n",
       "4  12678699   -0.0111      2016-04-29                    1.0   \n",
       "\n",
       "   architecturalstyletypeid  basementsqft  bathroomcnt  bedroomcnt  \\\n",
       "0                       7.0        1528.0          3.0         4.0   \n",
       "1                       7.0        1528.0          4.0         3.0   \n",
       "2                       7.0        1528.0          3.0         3.0   \n",
       "3                       7.0        1528.0          3.0         4.0   \n",
       "4                       7.0        1528.0          2.0         3.0   \n",
       "\n",
       "   buildingclasstypeid  buildingqualitytypeid         ...          \\\n",
       "0                  4.0                    4.0         ...           \n",
       "1                  4.0                    4.0         ...           \n",
       "2                  4.0                    4.0         ...           \n",
       "3                  4.0                    7.0         ...           \n",
       "4                  4.0                    7.0         ...           \n",
       "\n",
       "   fireplaceflag  structuretaxvaluedollarcnt  taxvaluedollarcnt  \\\n",
       "0           True                    180637.0           722923.0   \n",
       "1           True                    182151.0           291440.0   \n",
       "2           True                    141380.0           193171.0   \n",
       "3           True                    163569.0           272612.0   \n",
       "4           True                     27108.0            91344.0   \n",
       "\n",
       "   assessmentyear  landtaxvaluedollarcnt  taxamount  taxdelinquencyflag  \\\n",
       "0          2015.0               542286.0    8080.91                   Y   \n",
       "1          2015.0               109289.0    3690.38                   Y   \n",
       "2          2015.0                51791.0    6234.70                   Y   \n",
       "3          2015.0               109043.0    4848.37                   Y   \n",
       "4          2015.0                64236.0    1305.15                   Y   \n",
       "\n",
       "   taxdelinquencyyear  censustractandblock  nn_logerror_median  \n",
       "0                14.0         6.037300e+13            -0.01535  \n",
       "1                14.0         6.037186e+13             0.08960  \n",
       "2                14.0         6.037137e+13             0.00735  \n",
       "3                14.0         6.037920e+13             0.01780  \n",
       "4                14.0         6.037651e+13            -0.00930  \n",
       "\n",
       "[5 rows x 61 columns]"
      ]
     },
     "execution_count": 17,
     "metadata": {},
     "output_type": "execute_result"
    }
   ],
   "source": [
    "for column_name in train.columns.tolist():\n",
    "    mode = column_mode(train.append(test)[column_name])\n",
    "    train[column_name] = train[column_name].fillna(mode)\n",
    "    \n",
    "train.head()"
   ]
  },
  {
   "cell_type": "code",
   "execution_count": 18,
   "metadata": {},
   "outputs": [
    {
     "data": {
      "text/html": [
       "<div>\n",
       "<style>\n",
       "    .dataframe thead tr:only-child th {\n",
       "        text-align: right;\n",
       "    }\n",
       "\n",
       "    .dataframe thead th {\n",
       "        text-align: left;\n",
       "    }\n",
       "\n",
       "    .dataframe tbody tr th {\n",
       "        vertical-align: top;\n",
       "    }\n",
       "</style>\n",
       "<table border=\"1\" class=\"dataframe\">\n",
       "  <thead>\n",
       "    <tr style=\"text-align: right;\">\n",
       "      <th></th>\n",
       "      <th>parcelid</th>\n",
       "      <th>logerror</th>\n",
       "      <th>transactiondate</th>\n",
       "      <th>airconditioningtypeid</th>\n",
       "      <th>architecturalstyletypeid</th>\n",
       "      <th>basementsqft</th>\n",
       "      <th>bathroomcnt</th>\n",
       "      <th>bedroomcnt</th>\n",
       "      <th>buildingclasstypeid</th>\n",
       "      <th>buildingqualitytypeid</th>\n",
       "      <th>...</th>\n",
       "      <th>fireplaceflag</th>\n",
       "      <th>structuretaxvaluedollarcnt</th>\n",
       "      <th>taxvaluedollarcnt</th>\n",
       "      <th>assessmentyear</th>\n",
       "      <th>landtaxvaluedollarcnt</th>\n",
       "      <th>taxamount</th>\n",
       "      <th>taxdelinquencyflag</th>\n",
       "      <th>taxdelinquencyyear</th>\n",
       "      <th>censustractandblock</th>\n",
       "      <th>nn_logerror_median</th>\n",
       "    </tr>\n",
       "  </thead>\n",
       "  <tbody>\n",
       "    <tr>\n",
       "      <th>0</th>\n",
       "      <td>14366692</td>\n",
       "      <td>-0.1684</td>\n",
       "      <td>2016-01-01</td>\n",
       "      <td>1.0</td>\n",
       "      <td>7.0</td>\n",
       "      <td>1528.0</td>\n",
       "      <td>3.5</td>\n",
       "      <td>4.0</td>\n",
       "      <td>4.0</td>\n",
       "      <td>7.0</td>\n",
       "      <td>...</td>\n",
       "      <td>True</td>\n",
       "      <td>346458.0</td>\n",
       "      <td>585529.0</td>\n",
       "      <td>2015.0</td>\n",
       "      <td>239071.0</td>\n",
       "      <td>10153.02</td>\n",
       "      <td>Y</td>\n",
       "      <td>14.0</td>\n",
       "      <td>6.037920e+13</td>\n",
       "      <td>-0.10480</td>\n",
       "    </tr>\n",
       "    <tr>\n",
       "      <th>1</th>\n",
       "      <td>12643413</td>\n",
       "      <td>0.0218</td>\n",
       "      <td>2016-01-02</td>\n",
       "      <td>1.0</td>\n",
       "      <td>7.0</td>\n",
       "      <td>1528.0</td>\n",
       "      <td>2.0</td>\n",
       "      <td>2.0</td>\n",
       "      <td>4.0</td>\n",
       "      <td>4.0</td>\n",
       "      <td>...</td>\n",
       "      <td>True</td>\n",
       "      <td>171518.0</td>\n",
       "      <td>244880.0</td>\n",
       "      <td>2015.0</td>\n",
       "      <td>73362.0</td>\n",
       "      <td>3048.74</td>\n",
       "      <td>Y</td>\n",
       "      <td>14.0</td>\n",
       "      <td>6.037296e+13</td>\n",
       "      <td>0.00200</td>\n",
       "    </tr>\n",
       "    <tr>\n",
       "      <th>2</th>\n",
       "      <td>14432541</td>\n",
       "      <td>-0.0050</td>\n",
       "      <td>2016-01-02</td>\n",
       "      <td>1.0</td>\n",
       "      <td>7.0</td>\n",
       "      <td>1528.0</td>\n",
       "      <td>2.5</td>\n",
       "      <td>4.0</td>\n",
       "      <td>4.0</td>\n",
       "      <td>7.0</td>\n",
       "      <td>...</td>\n",
       "      <td>True</td>\n",
       "      <td>169574.0</td>\n",
       "      <td>434551.0</td>\n",
       "      <td>2015.0</td>\n",
       "      <td>264977.0</td>\n",
       "      <td>5488.96</td>\n",
       "      <td>Y</td>\n",
       "      <td>14.0</td>\n",
       "      <td>6.059042e+13</td>\n",
       "      <td>0.01330</td>\n",
       "    </tr>\n",
       "    <tr>\n",
       "      <th>3</th>\n",
       "      <td>11509835</td>\n",
       "      <td>-0.2705</td>\n",
       "      <td>2016-01-02</td>\n",
       "      <td>1.0</td>\n",
       "      <td>7.0</td>\n",
       "      <td>1528.0</td>\n",
       "      <td>4.0</td>\n",
       "      <td>4.0</td>\n",
       "      <td>4.0</td>\n",
       "      <td>1.0</td>\n",
       "      <td>...</td>\n",
       "      <td>True</td>\n",
       "      <td>880650.0</td>\n",
       "      <td>2447951.0</td>\n",
       "      <td>2015.0</td>\n",
       "      <td>1567301.0</td>\n",
       "      <td>27126.57</td>\n",
       "      <td>Y</td>\n",
       "      <td>14.0</td>\n",
       "      <td>6.037621e+13</td>\n",
       "      <td>0.06945</td>\n",
       "    </tr>\n",
       "    <tr>\n",
       "      <th>4</th>\n",
       "      <td>11672170</td>\n",
       "      <td>-0.0161</td>\n",
       "      <td>2016-01-03</td>\n",
       "      <td>1.0</td>\n",
       "      <td>7.0</td>\n",
       "      <td>1528.0</td>\n",
       "      <td>4.0</td>\n",
       "      <td>5.0</td>\n",
       "      <td>4.0</td>\n",
       "      <td>1.0</td>\n",
       "      <td>...</td>\n",
       "      <td>True</td>\n",
       "      <td>559040.0</td>\n",
       "      <td>1090127.0</td>\n",
       "      <td>2015.0</td>\n",
       "      <td>531087.0</td>\n",
       "      <td>13428.94</td>\n",
       "      <td>Y</td>\n",
       "      <td>14.0</td>\n",
       "      <td>6.037263e+13</td>\n",
       "      <td>-0.00300</td>\n",
       "    </tr>\n",
       "  </tbody>\n",
       "</table>\n",
       "<p>5 rows × 61 columns</p>\n",
       "</div>"
      ],
      "text/plain": [
       "   parcelid  logerror transactiondate  airconditioningtypeid  \\\n",
       "0  14366692   -0.1684      2016-01-01                    1.0   \n",
       "1  12643413    0.0218      2016-01-02                    1.0   \n",
       "2  14432541   -0.0050      2016-01-02                    1.0   \n",
       "3  11509835   -0.2705      2016-01-02                    1.0   \n",
       "4  11672170   -0.0161      2016-01-03                    1.0   \n",
       "\n",
       "   architecturalstyletypeid  basementsqft  bathroomcnt  bedroomcnt  \\\n",
       "0                       7.0        1528.0          3.5         4.0   \n",
       "1                       7.0        1528.0          2.0         2.0   \n",
       "2                       7.0        1528.0          2.5         4.0   \n",
       "3                       7.0        1528.0          4.0         4.0   \n",
       "4                       7.0        1528.0          4.0         5.0   \n",
       "\n",
       "   buildingclasstypeid  buildingqualitytypeid         ...          \\\n",
       "0                  4.0                    7.0         ...           \n",
       "1                  4.0                    4.0         ...           \n",
       "2                  4.0                    7.0         ...           \n",
       "3                  4.0                    1.0         ...           \n",
       "4                  4.0                    1.0         ...           \n",
       "\n",
       "   fireplaceflag  structuretaxvaluedollarcnt  taxvaluedollarcnt  \\\n",
       "0           True                    346458.0           585529.0   \n",
       "1           True                    171518.0           244880.0   \n",
       "2           True                    169574.0           434551.0   \n",
       "3           True                    880650.0          2447951.0   \n",
       "4           True                    559040.0          1090127.0   \n",
       "\n",
       "   assessmentyear  landtaxvaluedollarcnt  taxamount  taxdelinquencyflag  \\\n",
       "0          2015.0               239071.0   10153.02                   Y   \n",
       "1          2015.0                73362.0    3048.74                   Y   \n",
       "2          2015.0               264977.0    5488.96                   Y   \n",
       "3          2015.0              1567301.0   27126.57                   Y   \n",
       "4          2015.0               531087.0   13428.94                   Y   \n",
       "\n",
       "   taxdelinquencyyear  censustractandblock  nn_logerror_median  \n",
       "0                14.0         6.037920e+13            -0.10480  \n",
       "1                14.0         6.037296e+13             0.00200  \n",
       "2                14.0         6.059042e+13             0.01330  \n",
       "3                14.0         6.037621e+13             0.06945  \n",
       "4                14.0         6.037263e+13            -0.00300  \n",
       "\n",
       "[5 rows x 61 columns]"
      ]
     },
     "execution_count": 18,
     "metadata": {},
     "output_type": "execute_result"
    }
   ],
   "source": [
    "for column_name in test.columns.tolist():\n",
    "    mode = column_mode(train.append(test)[column_name])\n",
    "    test[column_name] = test[column_name].fillna(mode)\n",
    "    \n",
    "test.head()"
   ]
  },
  {
   "cell_type": "markdown",
   "metadata": {},
   "source": [
    "### Normalizing Data"
   ]
  },
  {
   "cell_type": "code",
   "execution_count": 19,
   "metadata": {
    "collapsed": true
   },
   "outputs": [],
   "source": [
    "def normalize(column):\n",
    "    norm_column = (column - column.mean()) / (column.max() - column.min())\n",
    "    return norm_column\n",
    "    \n",
    "def normalize_columns(data, columns):\n",
    "    df = data.copy()\n",
    "    for column in columns:\n",
    "        df[column] = normalize(df[column])\n",
    "    return df"
   ]
  },
  {
   "cell_type": "code",
   "execution_count": 20,
   "metadata": {
    "collapsed": true
   },
   "outputs": [],
   "source": [
    "norm_data = normalize_columns(train.append(test), numeric_columns + [\"nn_logerror_median\"])\n",
    "\n",
    "norm_train = norm_data.iloc[0 : train.shape[0]]\n",
    "norm_test = norm_data.iloc[train.shape[0]: train.shape[0] + test.shape[0]]\n",
    "\n",
    "train = None\n",
    "test = None"
   ]
  },
  {
   "cell_type": "markdown",
   "metadata": {},
   "source": [
    "#### Use Columns"
   ]
  },
  {
   "cell_type": "code",
   "execution_count": 21,
   "metadata": {},
   "outputs": [
    {
     "data": {
      "text/plain": [
       "['calculatedfinishedsquarefeet',\n",
       " 'finishedsquarefeet6',\n",
       " 'finishedsquarefeet12',\n",
       " 'finishedsquarefeet15',\n",
       " 'garagecarcnt',\n",
       " 'yearbuilt',\n",
       " 'taxamount',\n",
       " 'structuretaxvaluedollarcnt',\n",
       " 'landtaxvaluedollarcnt',\n",
       " 'nn_logerror_median']"
      ]
     },
     "execution_count": 21,
     "metadata": {},
     "output_type": "execute_result"
    }
   ],
   "source": [
    "skb = SelectKBest(k=10)\n",
    "fit = skb.fit(norm_train[numeric_columns + [\"nn_logerror_median\"]], norm_train[\"logerror\"])\n",
    "\n",
    "use_columns = norm_train[numeric_columns + [\"nn_logerror_median\"]].columns[fit.get_support()].tolist()\n",
    "use_columns"
   ]
  },
  {
   "cell_type": "code",
   "execution_count": 22,
   "metadata": {},
   "outputs": [
    {
     "data": {
      "text/plain": [
       "0.079943765104766265"
      ]
     },
     "execution_count": 22,
     "metadata": {},
     "output_type": "execute_result"
    }
   ],
   "source": [
    "norm_train[\"nn_logerror_median\"].corr(norm_train[\"logerror\"])"
   ]
  },
  {
   "cell_type": "code",
   "execution_count": 23,
   "metadata": {
    "collapsed": true
   },
   "outputs": [],
   "source": [
    "train = norm_train\n",
    "test = norm_test"
   ]
  },
  {
   "cell_type": "markdown",
   "metadata": {},
   "source": [
    " "
   ]
  },
  {
   "cell_type": "markdown",
   "metadata": {},
   "source": [
    " "
   ]
  },
  {
   "cell_type": "markdown",
   "metadata": {},
   "source": [
    "### <font color=\"blue\">Linear Regression</font>"
   ]
  },
  {
   "cell_type": "code",
   "execution_count": 24,
   "metadata": {
    "collapsed": true
   },
   "outputs": [],
   "source": [
    "results = []\n",
    "k = 5"
   ]
  },
  {
   "cell_type": "markdown",
   "metadata": {},
   "source": [
    "##### Stochastic Gradient Descent Regressor"
   ]
  },
  {
   "cell_type": "code",
   "execution_count": 25,
   "metadata": {},
   "outputs": [
    {
     "data": {
      "text/plain": [
       "{'test': 0.06995937486929614,\n",
       " 'train': 0.068096881097302761,\n",
       " 'validation': 0.06742710158840956}"
      ]
     },
     "execution_count": 25,
     "metadata": {},
     "output_type": "execute_result"
    }
   ],
   "source": [
    "model = SGDRegressor(alpha=0.001, max_iter=1000)\n",
    "scores_dict = scores(model, train[use_columns], train[\"logerror\"], \n",
    "                            test[use_columns],  test[\"logerror\"], k, scorer=scorer)\n",
    "scores_dict"
   ]
  },
  {
   "cell_type": "code",
   "execution_count": 26,
   "metadata": {
    "collapsed": true
   },
   "outputs": [],
   "source": [
    "results.append({\"model\": \"linear SGDRegressor\", \n",
    "                \"score_test\": scores_dict[\"test\"],\n",
    "                \"score_train\": scores_dict[\"train\"], \n",
    "                \"score_cv\": scores_dict[\"validation\"], \n",
    "                \"tags\": \"alpha0.001, max_iter=1000\"})"
   ]
  },
  {
   "cell_type": "code",
   "execution_count": 27,
   "metadata": {},
   "outputs": [
    {
     "data": {
      "text/plain": [
       "{'test': 0.070071746029917073,\n",
       " 'train': 0.068098698480517819,\n",
       " 'validation': 0.06754335292475995}"
      ]
     },
     "execution_count": 27,
     "metadata": {},
     "output_type": "execute_result"
    }
   ],
   "source": [
    "model = SGDRegressor(alpha=0.0001, max_iter=2000)\n",
    "scores_dict = scores(model, train[use_columns], train[\"logerror\"], \n",
    "                            test[use_columns],  test[\"logerror\"], k, scorer=scorer)\n",
    "scores_dict"
   ]
  },
  {
   "cell_type": "code",
   "execution_count": 28,
   "metadata": {
    "collapsed": true
   },
   "outputs": [],
   "source": [
    "results.append({\"model\": \"linear SGDRegressor\", \n",
    "                \"score_test\": scores_dict[\"test\"],\n",
    "                \"score_train\": scores_dict[\"train\"], \n",
    "                \"score_cv\": scores_dict[\"validation\"], \n",
    "                \"tags\": \"alpha0.0001, max_iter=2000\"})"
   ]
  },
  {
   "cell_type": "code",
   "execution_count": 29,
   "metadata": {},
   "outputs": [
    {
     "data": {
      "text/plain": [
       "{'test': 0.070179709583395505,\n",
       " 'train': 0.068193906526026901,\n",
       " 'validation': 0.067598544323541954}"
      ]
     },
     "execution_count": 29,
     "metadata": {},
     "output_type": "execute_result"
    }
   ],
   "source": [
    "model = SGDRegressor(alpha=0.0001, max_iter=1000)\n",
    "scores_dict = scores(model, train[use_columns], train[\"logerror\"], \n",
    "                            test[use_columns],  test[\"logerror\"], k, scorer=scorer)\n",
    "scores_dict"
   ]
  },
  {
   "cell_type": "code",
   "execution_count": 30,
   "metadata": {
    "collapsed": true
   },
   "outputs": [],
   "source": [
    "results.append({\"model\": \"linear SGDRegressor\", \n",
    "                \"score_test\": scores_dict[\"test\"],\n",
    "                \"score_train\": scores_dict[\"train\"], \n",
    "                \"score_cv\": scores_dict[\"validation\"], \n",
    "                \"tags\": \"alpha0.0001, max_iter=1000\"})"
   ]
  },
  {
   "cell_type": "markdown",
   "metadata": {},
   "source": [
    " "
   ]
  },
  {
   "cell_type": "markdown",
   "metadata": {},
   "source": [
    "##### Ridge"
   ]
  },
  {
   "cell_type": "code",
   "execution_count": 31,
   "metadata": {},
   "outputs": [
    {
     "data": {
      "text/plain": [
       "{'test': 0.07032271549471962,\n",
       " 'train': 0.06828175646913319,\n",
       " 'validation': 0.067716473140865874}"
      ]
     },
     "execution_count": 31,
     "metadata": {},
     "output_type": "execute_result"
    }
   ],
   "source": [
    "model = Ridge()\n",
    "scores_dict = scores(model, norm_train[use_columns], norm_train[\"logerror\"], \n",
    "                            norm_test[use_columns],  norm_test[\"logerror\"], k, scorer=scorer)\n",
    "scores_dict"
   ]
  },
  {
   "cell_type": "code",
   "execution_count": 32,
   "metadata": {
    "collapsed": true
   },
   "outputs": [],
   "source": [
    "results.append({\"model\": \"linear Ridge\", \n",
    "                \"score_test\": scores_dict[\"test\"],\n",
    "                \"score_train\": scores_dict[\"train\"], \n",
    "                \"score_cv\": scores_dict[\"validation\"]})"
   ]
  },
  {
   "cell_type": "code",
   "execution_count": null,
   "metadata": {
    "collapsed": true
   },
   "outputs": [],
   "source": []
  },
  {
   "cell_type": "code",
   "execution_count": 33,
   "metadata": {},
   "outputs": [
    {
     "data": {
      "text/plain": [
       "{'test': 0.070272109712326378,\n",
       " 'train': 0.068250506803358424,\n",
       " 'validation': 0.067671120854921482}"
      ]
     },
     "execution_count": 33,
     "metadata": {},
     "output_type": "execute_result"
    }
   ],
   "source": [
    "model = Ridge(alpha=2.0)\n",
    "scores_dict = scores(model, norm_train[use_columns], norm_train[\"logerror\"], \n",
    "                            norm_test[use_columns],  norm_test[\"logerror\"], k, scorer=scorer)\n",
    "scores_dict"
   ]
  },
  {
   "cell_type": "code",
   "execution_count": 34,
   "metadata": {
    "collapsed": true
   },
   "outputs": [],
   "source": [
    "results.append({\"model\": \"linear Ridge\", \n",
    "                \"score_test\": scores_dict[\"test\"],\n",
    "                \"score_train\": scores_dict[\"train\"], \n",
    "                \"score_cv\": scores_dict[\"validation\"], \n",
    "                \"tags\": \"alpha=2\"})"
   ]
  },
  {
   "cell_type": "code",
   "execution_count": null,
   "metadata": {
    "collapsed": true
   },
   "outputs": [],
   "source": []
  },
  {
   "cell_type": "code",
   "execution_count": 35,
   "metadata": {},
   "outputs": [
    {
     "data": {
      "text/plain": [
       "{'test': 0.07005649104426577,\n",
       " 'train': 0.068093665664245351,\n",
       " 'validation': 0.067458125976738059}"
      ]
     },
     "execution_count": 35,
     "metadata": {},
     "output_type": "execute_result"
    }
   ],
   "source": [
    "model = Ridge(alpha=10.0)\n",
    "scores_dict = scores(model, norm_train[use_columns], norm_train[\"logerror\"], \n",
    "                            norm_test[use_columns],  norm_test[\"logerror\"], k, scorer=scorer)\n",
    "scores_dict"
   ]
  },
  {
   "cell_type": "code",
   "execution_count": 36,
   "metadata": {
    "collapsed": true
   },
   "outputs": [],
   "source": [
    "results.append({\"model\": \"linear Ridge\", \n",
    "                \"score_test\": scores_dict[\"test\"],\n",
    "                \"score_train\": scores_dict[\"train\"], \n",
    "                \"score_cv\": scores_dict[\"validation\"], \n",
    "                \"tags\": \"alpha=10\"})"
   ]
  },
  {
   "cell_type": "code",
   "execution_count": null,
   "metadata": {
    "collapsed": true
   },
   "outputs": [],
   "source": []
  },
  {
   "cell_type": "code",
   "execution_count": 37,
   "metadata": {},
   "outputs": [
    {
     "data": {
      "text/plain": [
       "{'test': 0.070359309454329791,\n",
       " 'train': 0.068303173572004619,\n",
       " 'validation': 0.067747598760950017}"
      ]
     },
     "execution_count": 37,
     "metadata": {},
     "output_type": "execute_result"
    }
   ],
   "source": [
    "model = Ridge(alpha=0.5)\n",
    "scores_dict = scores(model, norm_train[use_columns], norm_train[\"logerror\"], \n",
    "                            norm_test[use_columns],  norm_test[\"logerror\"], k, scorer=scorer)\n",
    "scores_dict"
   ]
  },
  {
   "cell_type": "code",
   "execution_count": 38,
   "metadata": {
    "collapsed": true
   },
   "outputs": [],
   "source": [
    "results.append({\"model\": \"linear Ridge\", \n",
    "                \"score_test\": scores_dict[\"test\"],\n",
    "                \"score_train\": scores_dict[\"train\"], \n",
    "                \"score_cv\": scores_dict[\"validation\"], \n",
    "                \"tags\": \"alpha=0.5\"})"
   ]
  },
  {
   "cell_type": "code",
   "execution_count": null,
   "metadata": {
    "collapsed": true
   },
   "outputs": [],
   "source": []
  },
  {
   "cell_type": "code",
   "execution_count": 39,
   "metadata": {},
   "outputs": [
    {
     "data": {
      "text/plain": [
       "{'test': 0.070395271896179293,\n",
       " 'train': 0.06832359356279083,\n",
       " 'validation': 0.067778055603993581}"
      ]
     },
     "execution_count": 39,
     "metadata": {},
     "output_type": "execute_result"
    }
   ],
   "source": [
    "model = Ridge(alpha=0.2)\n",
    "scores_dict = scores(model, norm_train[use_columns], norm_train[\"logerror\"], \n",
    "                            norm_test[use_columns],  norm_test[\"logerror\"], k, scorer=scorer)\n",
    "scores_dict"
   ]
  },
  {
   "cell_type": "code",
   "execution_count": 40,
   "metadata": {
    "collapsed": true
   },
   "outputs": [],
   "source": [
    "results.append({\"model\": \"linear Ridge\", \n",
    "                \"score_test\": scores_dict[\"test\"],\n",
    "                \"score_train\": scores_dict[\"train\"], \n",
    "                \"score_cv\": scores_dict[\"validation\"], \n",
    "                \"tags\": \"alpha=0.2\"})"
   ]
  },
  {
   "cell_type": "code",
   "execution_count": null,
   "metadata": {
    "collapsed": true
   },
   "outputs": [],
   "source": []
  },
  {
   "cell_type": "markdown",
   "metadata": {},
   "source": [
    "### <font color=\"blue\">Polynomial Regression</font>"
   ]
  },
  {
   "cell_type": "code",
   "execution_count": 41,
   "metadata": {
    "collapsed": true
   },
   "outputs": [],
   "source": [
    "from sklearn.preprocessing import PolynomialFeatures\n",
    "\n",
    "def polynomial_features(df, degree=2):\n",
    "    poly = PolynomialFeatures(degree=degree)\n",
    "    polinomial_data = pd.DataFrame(poly.fit_transform(df))\n",
    "    polinomial_data.columns = poly.get_feature_names()\n",
    "    return polinomial_data"
   ]
  },
  {
   "cell_type": "code",
   "execution_count": 42,
   "metadata": {},
   "outputs": [
    {
     "data": {
      "text/html": [
       "<div>\n",
       "<style>\n",
       "    .dataframe thead tr:only-child th {\n",
       "        text-align: right;\n",
       "    }\n",
       "\n",
       "    .dataframe thead th {\n",
       "        text-align: left;\n",
       "    }\n",
       "\n",
       "    .dataframe tbody tr th {\n",
       "        vertical-align: top;\n",
       "    }\n",
       "</style>\n",
       "<table border=\"1\" class=\"dataframe\">\n",
       "  <thead>\n",
       "    <tr style=\"text-align: right;\">\n",
       "      <th></th>\n",
       "      <th>1</th>\n",
       "      <th>x0</th>\n",
       "      <th>x1</th>\n",
       "      <th>x2</th>\n",
       "      <th>x3</th>\n",
       "      <th>x4</th>\n",
       "      <th>x5</th>\n",
       "      <th>x6</th>\n",
       "      <th>x7</th>\n",
       "      <th>x8</th>\n",
       "      <th>...</th>\n",
       "      <th>x8^3</th>\n",
       "      <th>x8^2 x9</th>\n",
       "      <th>x8^2 x10</th>\n",
       "      <th>x8 x9^2</th>\n",
       "      <th>x8 x9 x10</th>\n",
       "      <th>x8 x10^2</th>\n",
       "      <th>x9^3</th>\n",
       "      <th>x9^2 x10</th>\n",
       "      <th>x9 x10^2</th>\n",
       "      <th>x10^3</th>\n",
       "    </tr>\n",
       "  </thead>\n",
       "  <tbody>\n",
       "    <tr>\n",
       "      <th>0</th>\n",
       "      <td>1.0</td>\n",
       "      <td>-0.004175</td>\n",
       "      <td>-0.001056</td>\n",
       "      <td>-0.002158</td>\n",
       "      <td>-0.001245</td>\n",
       "      <td>0.002592</td>\n",
       "      <td>0.243215</td>\n",
       "      <td>0.006541</td>\n",
       "      <td>0.000109</td>\n",
       "      <td>0.010794</td>\n",
       "      <td>...</td>\n",
       "      <td>1.257528e-06</td>\n",
       "      <td>-5.820364e-07</td>\n",
       "      <td>-5.820364e-07</td>\n",
       "      <td>2.693907e-07</td>\n",
       "      <td>2.693907e-07</td>\n",
       "      <td>2.693907e-07</td>\n",
       "      <td>-1.246853e-07</td>\n",
       "      <td>-1.246853e-07</td>\n",
       "      <td>-1.246853e-07</td>\n",
       "      <td>-1.246853e-07</td>\n",
       "    </tr>\n",
       "    <tr>\n",
       "      <th>1</th>\n",
       "      <td>1.0</td>\n",
       "      <td>0.017945</td>\n",
       "      <td>-0.001056</td>\n",
       "      <td>0.022978</td>\n",
       "      <td>-0.001245</td>\n",
       "      <td>0.002592</td>\n",
       "      <td>0.297061</td>\n",
       "      <td>-0.007099</td>\n",
       "      <td>0.000261</td>\n",
       "      <td>-0.006880</td>\n",
       "      <td>...</td>\n",
       "      <td>-3.256050e-07</td>\n",
       "      <td>6.819477e-07</td>\n",
       "      <td>6.819477e-07</td>\n",
       "      <td>-1.428272e-06</td>\n",
       "      <td>-1.428272e-06</td>\n",
       "      <td>-1.428272e-06</td>\n",
       "      <td>2.991375e-06</td>\n",
       "      <td>2.991375e-06</td>\n",
       "      <td>2.991375e-06</td>\n",
       "      <td>2.991375e-06</td>\n",
       "    </tr>\n",
       "    <tr>\n",
       "      <th>2</th>\n",
       "      <td>1.0</td>\n",
       "      <td>0.023575</td>\n",
       "      <td>-0.001056</td>\n",
       "      <td>0.029374</td>\n",
       "      <td>-0.001245</td>\n",
       "      <td>0.002592</td>\n",
       "      <td>0.050907</td>\n",
       "      <td>0.000806</td>\n",
       "      <td>-0.003837</td>\n",
       "      <td>-0.009226</td>\n",
       "      <td>...</td>\n",
       "      <td>-7.854280e-07</td>\n",
       "      <td>-6.799505e-08</td>\n",
       "      <td>-6.799505e-08</td>\n",
       "      <td>-5.886379e-09</td>\n",
       "      <td>-5.886379e-09</td>\n",
       "      <td>-5.886379e-09</td>\n",
       "      <td>-5.095879e-10</td>\n",
       "      <td>-5.095879e-10</td>\n",
       "      <td>-5.095879e-10</td>\n",
       "      <td>-5.095879e-10</td>\n",
       "    </tr>\n",
       "    <tr>\n",
       "      <th>3</th>\n",
       "      <td>1.0</td>\n",
       "      <td>0.024718</td>\n",
       "      <td>-0.001056</td>\n",
       "      <td>0.030674</td>\n",
       "      <td>-0.001245</td>\n",
       "      <td>0.002592</td>\n",
       "      <td>-0.002939</td>\n",
       "      <td>-0.003501</td>\n",
       "      <td>-0.001606</td>\n",
       "      <td>-0.006890</td>\n",
       "      <td>...</td>\n",
       "      <td>-3.270328e-07</td>\n",
       "      <td>5.379865e-08</td>\n",
       "      <td>5.379865e-08</td>\n",
       "      <td>-8.850166e-09</td>\n",
       "      <td>-8.850166e-09</td>\n",
       "      <td>-8.850166e-09</td>\n",
       "      <td>1.455900e-09</td>\n",
       "      <td>1.455900e-09</td>\n",
       "      <td>1.455900e-09</td>\n",
       "      <td>1.455900e-09</td>\n",
       "    </tr>\n",
       "    <tr>\n",
       "      <th>4</th>\n",
       "      <td>1.0</td>\n",
       "      <td>-0.026648</td>\n",
       "      <td>-0.001056</td>\n",
       "      <td>-0.027694</td>\n",
       "      <td>-0.001245</td>\n",
       "      <td>0.002592</td>\n",
       "      <td>-0.095247</td>\n",
       "      <td>-0.014509</td>\n",
       "      <td>-0.015324</td>\n",
       "      <td>-0.008719</td>\n",
       "      <td>...</td>\n",
       "      <td>-6.627145e-07</td>\n",
       "      <td>-2.947153e-07</td>\n",
       "      <td>-2.947153e-07</td>\n",
       "      <td>-1.310626e-07</td>\n",
       "      <td>-1.310626e-07</td>\n",
       "      <td>-1.310626e-07</td>\n",
       "      <td>-5.828474e-08</td>\n",
       "      <td>-5.828474e-08</td>\n",
       "      <td>-5.828474e-08</td>\n",
       "      <td>-5.828474e-08</td>\n",
       "    </tr>\n",
       "  </tbody>\n",
       "</table>\n",
       "<p>5 rows × 364 columns</p>\n",
       "</div>"
      ],
      "text/plain": [
       "     1        x0        x1        x2        x3        x4        x5        x6  \\\n",
       "0  1.0 -0.004175 -0.001056 -0.002158 -0.001245  0.002592  0.243215  0.006541   \n",
       "1  1.0  0.017945 -0.001056  0.022978 -0.001245  0.002592  0.297061 -0.007099   \n",
       "2  1.0  0.023575 -0.001056  0.029374 -0.001245  0.002592  0.050907  0.000806   \n",
       "3  1.0  0.024718 -0.001056  0.030674 -0.001245  0.002592 -0.002939 -0.003501   \n",
       "4  1.0 -0.026648 -0.001056 -0.027694 -0.001245  0.002592 -0.095247 -0.014509   \n",
       "\n",
       "         x7        x8      ...               x8^3       x8^2 x9      x8^2 x10  \\\n",
       "0  0.000109  0.010794      ...       1.257528e-06 -5.820364e-07 -5.820364e-07   \n",
       "1  0.000261 -0.006880      ...      -3.256050e-07  6.819477e-07  6.819477e-07   \n",
       "2 -0.003837 -0.009226      ...      -7.854280e-07 -6.799505e-08 -6.799505e-08   \n",
       "3 -0.001606 -0.006890      ...      -3.270328e-07  5.379865e-08  5.379865e-08   \n",
       "4 -0.015324 -0.008719      ...      -6.627145e-07 -2.947153e-07 -2.947153e-07   \n",
       "\n",
       "        x8 x9^2     x8 x9 x10      x8 x10^2          x9^3      x9^2 x10  \\\n",
       "0  2.693907e-07  2.693907e-07  2.693907e-07 -1.246853e-07 -1.246853e-07   \n",
       "1 -1.428272e-06 -1.428272e-06 -1.428272e-06  2.991375e-06  2.991375e-06   \n",
       "2 -5.886379e-09 -5.886379e-09 -5.886379e-09 -5.095879e-10 -5.095879e-10   \n",
       "3 -8.850166e-09 -8.850166e-09 -8.850166e-09  1.455900e-09  1.455900e-09   \n",
       "4 -1.310626e-07 -1.310626e-07 -1.310626e-07 -5.828474e-08 -5.828474e-08   \n",
       "\n",
       "       x9 x10^2         x10^3  \n",
       "0 -1.246853e-07 -1.246853e-07  \n",
       "1  2.991375e-06  2.991375e-06  \n",
       "2 -5.095879e-10 -5.095879e-10  \n",
       "3  1.455900e-09  1.455900e-09  \n",
       "4 -5.828474e-08 -5.828474e-08  \n",
       "\n",
       "[5 rows x 364 columns]"
      ]
     },
     "execution_count": 42,
     "metadata": {},
     "output_type": "execute_result"
    }
   ],
   "source": [
    "poly_test = polynomial_features(norm_test[use_columns + [\"nn_logerror_median\"]], degree=3)\n",
    "poly_test.head()\n",
    "\n",
    "poly_train = polynomial_features(norm_train[use_columns + [\"nn_logerror_median\"]], degree=3)\n",
    "poly_train.head()"
   ]
  },
  {
   "cell_type": "code",
   "execution_count": 55,
   "metadata": {},
   "outputs": [
    {
     "data": {
      "text/html": [
       "<div>\n",
       "<style>\n",
       "    .dataframe thead tr:only-child th {\n",
       "        text-align: right;\n",
       "    }\n",
       "\n",
       "    .dataframe thead th {\n",
       "        text-align: left;\n",
       "    }\n",
       "\n",
       "    .dataframe tbody tr th {\n",
       "        vertical-align: top;\n",
       "    }\n",
       "</style>\n",
       "<table border=\"1\" class=\"dataframe\">\n",
       "  <thead>\n",
       "    <tr style=\"text-align: right;\">\n",
       "      <th></th>\n",
       "      <th>x3 x4</th>\n",
       "      <th>x0 x1 x7</th>\n",
       "      <th>x0 x3 x4</th>\n",
       "      <th>x1^2 x7</th>\n",
       "      <th>x3^2 x4</th>\n",
       "      <th>x3 x4 x6</th>\n",
       "      <th>x3 x4 x8</th>\n",
       "      <th>x3 x6 x7</th>\n",
       "      <th>x3 x7 x8</th>\n",
       "      <th>x3 x8 x10</th>\n",
       "    </tr>\n",
       "  </thead>\n",
       "  <tbody>\n",
       "    <tr>\n",
       "      <th>0</th>\n",
       "      <td>-0.000003</td>\n",
       "      <td>4.818817e-10</td>\n",
       "      <td>1.347030e-08</td>\n",
       "      <td>1.218663e-10</td>\n",
       "      <td>4.015822e-09</td>\n",
       "      <td>-2.110434e-08</td>\n",
       "      <td>-3.482372e-08</td>\n",
       "      <td>-8.899974e-10</td>\n",
       "      <td>-1.468562e-09</td>\n",
       "      <td>6.711961e-08</td>\n",
       "    </tr>\n",
       "    <tr>\n",
       "      <th>1</th>\n",
       "      <td>-0.000003</td>\n",
       "      <td>-4.954962e-09</td>\n",
       "      <td>-5.789700e-08</td>\n",
       "      <td>2.915445e-10</td>\n",
       "      <td>4.015822e-09</td>\n",
       "      <td>2.290209e-08</td>\n",
       "      <td>2.219557e-08</td>\n",
       "      <td>2.310539e-09</td>\n",
       "      <td>2.239260e-09</td>\n",
       "      <td>1.233841e-07</td>\n",
       "    </tr>\n",
       "    <tr>\n",
       "      <th>2</th>\n",
       "      <td>-0.000003</td>\n",
       "      <td>9.550861e-08</td>\n",
       "      <td>-7.605806e-08</td>\n",
       "      <td>-4.277774e-09</td>\n",
       "      <td>4.015822e-09</td>\n",
       "      <td>-2.599713e-09</td>\n",
       "      <td>2.976721e-08</td>\n",
       "      <td>3.848368e-09</td>\n",
       "      <td>-4.406454e-08</td>\n",
       "      <td>-9.173048e-09</td>\n",
       "    </tr>\n",
       "    <tr>\n",
       "      <th>3</th>\n",
       "      <td>-0.000003</td>\n",
       "      <td>4.192639e-08</td>\n",
       "      <td>-7.974703e-08</td>\n",
       "      <td>-1.790992e-09</td>\n",
       "      <td>4.015822e-09</td>\n",
       "      <td>1.129552e-08</td>\n",
       "      <td>2.222797e-08</td>\n",
       "      <td>-7.000565e-09</td>\n",
       "      <td>-1.377611e-08</td>\n",
       "      <td>9.719549e-09</td>\n",
       "    </tr>\n",
       "    <tr>\n",
       "      <th>4</th>\n",
       "      <td>-0.000003</td>\n",
       "      <td>-4.311650e-07</td>\n",
       "      <td>8.597267e-08</td>\n",
       "      <td>-1.708455e-08</td>\n",
       "      <td>4.015822e-09</td>\n",
       "      <td>4.680933e-08</td>\n",
       "      <td>2.812839e-08</td>\n",
       "      <td>-2.767384e-07</td>\n",
       "      <td>-1.662960e-07</td>\n",
       "      <td>-4.207579e-08</td>\n",
       "    </tr>\n",
       "  </tbody>\n",
       "</table>\n",
       "</div>"
      ],
      "text/plain": [
       "      x3 x4      x0 x1 x7      x0 x3 x4       x1^2 x7       x3^2 x4  \\\n",
       "0 -0.000003  4.818817e-10  1.347030e-08  1.218663e-10  4.015822e-09   \n",
       "1 -0.000003 -4.954962e-09 -5.789700e-08  2.915445e-10  4.015822e-09   \n",
       "2 -0.000003  9.550861e-08 -7.605806e-08 -4.277774e-09  4.015822e-09   \n",
       "3 -0.000003  4.192639e-08 -7.974703e-08 -1.790992e-09  4.015822e-09   \n",
       "4 -0.000003 -4.311650e-07  8.597267e-08 -1.708455e-08  4.015822e-09   \n",
       "\n",
       "       x3 x4 x6      x3 x4 x8      x3 x6 x7      x3 x7 x8     x3 x8 x10  \n",
       "0 -2.110434e-08 -3.482372e-08 -8.899974e-10 -1.468562e-09  6.711961e-08  \n",
       "1  2.290209e-08  2.219557e-08  2.310539e-09  2.239260e-09  1.233841e-07  \n",
       "2 -2.599713e-09  2.976721e-08  3.848368e-09 -4.406454e-08 -9.173048e-09  \n",
       "3  1.129552e-08  2.222797e-08 -7.000565e-09 -1.377611e-08  9.719549e-09  \n",
       "4  4.680933e-08  2.812839e-08 -2.767384e-07 -1.662960e-07 -4.207579e-08  "
      ]
     },
     "execution_count": 55,
     "metadata": {},
     "output_type": "execute_result"
    }
   ],
   "source": [
    "skb = SelectKBest(k=10)\n",
    "fit = skb.fit(poly_train, train[\"logerror\"])\n",
    "\n",
    "use_poly_columns = poly_train.columns[fit.get_support()].tolist()\n",
    "poly_train = poly_train[use_poly_columns]\n",
    "poly_train.head()"
   ]
  },
  {
   "cell_type": "markdown",
   "metadata": {},
   "source": [
    "##### Stochastic Gradient Descent Regressor"
   ]
  },
  {
   "cell_type": "code",
   "execution_count": 45,
   "metadata": {},
   "outputs": [
    {
     "data": {
      "text/plain": [
       "{'test': 0.069908209979089295,\n",
       " 'train': 0.068110226143618308,\n",
       " 'validation': 0.067508550880775828}"
      ]
     },
     "execution_count": 45,
     "metadata": {},
     "output_type": "execute_result"
    }
   ],
   "source": [
    "model = SGDRegressor(max_iter=2000)\n",
    "scores_dict = scores(model, poly_train, train[\"logerror\"], \n",
    "                            poly_test[poly_train.columns.tolist()],  test[\"logerror\"], k, scorer=scorer)\n",
    "scores_dict"
   ]
  },
  {
   "cell_type": "code",
   "execution_count": 46,
   "metadata": {
    "collapsed": true
   },
   "outputs": [],
   "source": [
    "results.append({\"model\": \"Polynomial SGD Regressor\", \n",
    "                \"score_test\": scores_dict[\"test\"],\n",
    "                \"score_train\": scores_dict[\"train\"], \n",
    "                \"score_cv\": scores_dict[\"validation\"], \n",
    "                \"tags\": \"degree=4\"})"
   ]
  },
  {
   "cell_type": "code",
   "execution_count": null,
   "metadata": {
    "collapsed": true
   },
   "outputs": [],
   "source": []
  },
  {
   "cell_type": "code",
   "execution_count": 47,
   "metadata": {},
   "outputs": [
    {
     "data": {
      "text/plain": [
       "{'test': 0.070010821969964471,\n",
       " 'train': 0.068203632015274629,\n",
       " 'validation': 0.0675219928205298}"
      ]
     },
     "execution_count": 47,
     "metadata": {},
     "output_type": "execute_result"
    }
   ],
   "source": [
    "model = Ridge()\n",
    "scores_dict = scores(model, poly_train, train[\"logerror\"], \n",
    "                            poly_test[poly_train.columns.tolist()],  test[\"logerror\"], k, scorer=scorer)\n",
    "scores_dict"
   ]
  },
  {
   "cell_type": "code",
   "execution_count": 48,
   "metadata": {
    "collapsed": true
   },
   "outputs": [],
   "source": [
    "results.append({\"model\": \"Polynomial Ridge\", \n",
    "                \"score_test\": scores_dict[\"test\"],\n",
    "                \"score_train\": scores_dict[\"train\"], \n",
    "                \"score_cv\": scores_dict[\"validation\"], \n",
    "                \"tags\": \"degree=4\"})"
   ]
  },
  {
   "cell_type": "code",
   "execution_count": null,
   "metadata": {
    "collapsed": true
   },
   "outputs": [],
   "source": []
  },
  {
   "cell_type": "code",
   "execution_count": 49,
   "metadata": {},
   "outputs": [
    {
     "data": {
      "text/plain": [
       "{'test': 0.070010752525431666,\n",
       " 'train': 0.068203545734068075,\n",
       " 'validation': 0.067522017501242107}"
      ]
     },
     "execution_count": 49,
     "metadata": {},
     "output_type": "execute_result"
    }
   ],
   "source": [
    "model = Ridge(alpha=0.5)\n",
    "scores_dict = scores(model, poly_train, train[\"logerror\"], \n",
    "                            poly_test[poly_train.columns.tolist()],  test[\"logerror\"], k, scorer=scorer)\n",
    "scores_dict"
   ]
  },
  {
   "cell_type": "code",
   "execution_count": 50,
   "metadata": {
    "collapsed": true
   },
   "outputs": [],
   "source": [
    "results.append({\"model\": \"Polynomial Ridge\", \n",
    "                \"score_test\": scores_dict[\"test\"],\n",
    "                \"score_train\": scores_dict[\"train\"], \n",
    "                \"score_cv\": scores_dict[\"validation\"], \n",
    "                \"tags\": \"degree=4, alpha=0.5\"})"
   ]
  },
  {
   "cell_type": "code",
   "execution_count": null,
   "metadata": {
    "collapsed": true
   },
   "outputs": [],
   "source": []
  },
  {
   "cell_type": "code",
   "execution_count": 51,
   "metadata": {},
   "outputs": [
    {
     "data": {
      "text/plain": [
       "{'test': 0.070010885403783682,\n",
       " 'train': 0.068203710757182567,\n",
       " 'validation': 0.067521970451618799}"
      ]
     },
     "execution_count": 51,
     "metadata": {},
     "output_type": "execute_result"
    }
   ],
   "source": [
    "model = Ridge(alpha=10)\n",
    "scores_dict = scores(model, poly_train, train[\"logerror\"], \n",
    "                            poly_test[poly_train.columns.tolist()],  test[\"logerror\"], k, scorer=scorer)\n",
    "scores_dict"
   ]
  },
  {
   "cell_type": "code",
   "execution_count": 52,
   "metadata": {
    "collapsed": true
   },
   "outputs": [],
   "source": [
    "results.append({\"model\": \"Polynomial Ridge\", \n",
    "                \"score_test\": scores_dict[\"test\"],\n",
    "                \"score_train\": scores_dict[\"train\"], \n",
    "                \"score_cv\": scores_dict[\"validation\"], \n",
    "                \"tags\": \"degree=4, alpha=10.0\"})"
   ]
  },
  {
   "cell_type": "code",
   "execution_count": null,
   "metadata": {
    "collapsed": true
   },
   "outputs": [],
   "source": []
  },
  {
   "cell_type": "code",
   "execution_count": 53,
   "metadata": {},
   "outputs": [
    {
     "data": {
      "text/html": [
       "<div>\n",
       "<style>\n",
       "    .dataframe thead tr:only-child th {\n",
       "        text-align: right;\n",
       "    }\n",
       "\n",
       "    .dataframe thead th {\n",
       "        text-align: left;\n",
       "    }\n",
       "\n",
       "    .dataframe tbody tr th {\n",
       "        vertical-align: top;\n",
       "    }\n",
       "</style>\n",
       "<table border=\"1\" class=\"dataframe\">\n",
       "  <thead>\n",
       "    <tr style=\"text-align: right;\">\n",
       "      <th></th>\n",
       "      <th>model</th>\n",
       "      <th>score_cv</th>\n",
       "      <th>score_test</th>\n",
       "      <th>score_train</th>\n",
       "      <th>tags</th>\n",
       "    </tr>\n",
       "  </thead>\n",
       "  <tbody>\n",
       "    <tr>\n",
       "      <th>0</th>\n",
       "      <td>linear SGDRegressor</td>\n",
       "      <td>0.067427</td>\n",
       "      <td>0.069959</td>\n",
       "      <td>0.068097</td>\n",
       "      <td>alpha0.001, max_iter=1000</td>\n",
       "    </tr>\n",
       "    <tr>\n",
       "      <th>5</th>\n",
       "      <td>linear Ridge</td>\n",
       "      <td>0.067458</td>\n",
       "      <td>0.070056</td>\n",
       "      <td>0.068094</td>\n",
       "      <td>alpha=10</td>\n",
       "    </tr>\n",
       "    <tr>\n",
       "      <th>8</th>\n",
       "      <td>Polynomial SGD Regressor</td>\n",
       "      <td>0.067509</td>\n",
       "      <td>0.069908</td>\n",
       "      <td>0.068110</td>\n",
       "      <td>degree=4</td>\n",
       "    </tr>\n",
       "    <tr>\n",
       "      <th>11</th>\n",
       "      <td>Polynomial Ridge</td>\n",
       "      <td>0.067522</td>\n",
       "      <td>0.070011</td>\n",
       "      <td>0.068204</td>\n",
       "      <td>degree=4, alpha=10.0</td>\n",
       "    </tr>\n",
       "    <tr>\n",
       "      <th>9</th>\n",
       "      <td>Polynomial Ridge</td>\n",
       "      <td>0.067522</td>\n",
       "      <td>0.070011</td>\n",
       "      <td>0.068204</td>\n",
       "      <td>degree=4</td>\n",
       "    </tr>\n",
       "    <tr>\n",
       "      <th>10</th>\n",
       "      <td>Polynomial Ridge</td>\n",
       "      <td>0.067522</td>\n",
       "      <td>0.070011</td>\n",
       "      <td>0.068204</td>\n",
       "      <td>degree=4, alpha=0.5</td>\n",
       "    </tr>\n",
       "    <tr>\n",
       "      <th>1</th>\n",
       "      <td>linear SGDRegressor</td>\n",
       "      <td>0.067543</td>\n",
       "      <td>0.070072</td>\n",
       "      <td>0.068099</td>\n",
       "      <td>alpha0.0001, max_iter=2000</td>\n",
       "    </tr>\n",
       "    <tr>\n",
       "      <th>2</th>\n",
       "      <td>linear SGDRegressor</td>\n",
       "      <td>0.067599</td>\n",
       "      <td>0.070180</td>\n",
       "      <td>0.068194</td>\n",
       "      <td>alpha0.0001, max_iter=1000</td>\n",
       "    </tr>\n",
       "    <tr>\n",
       "      <th>4</th>\n",
       "      <td>linear Ridge</td>\n",
       "      <td>0.067671</td>\n",
       "      <td>0.070272</td>\n",
       "      <td>0.068251</td>\n",
       "      <td>alpha=2</td>\n",
       "    </tr>\n",
       "    <tr>\n",
       "      <th>3</th>\n",
       "      <td>linear Ridge</td>\n",
       "      <td>0.067716</td>\n",
       "      <td>0.070323</td>\n",
       "      <td>0.068282</td>\n",
       "      <td>NaN</td>\n",
       "    </tr>\n",
       "    <tr>\n",
       "      <th>6</th>\n",
       "      <td>linear Ridge</td>\n",
       "      <td>0.067748</td>\n",
       "      <td>0.070359</td>\n",
       "      <td>0.068303</td>\n",
       "      <td>alpha=0.5</td>\n",
       "    </tr>\n",
       "    <tr>\n",
       "      <th>7</th>\n",
       "      <td>linear Ridge</td>\n",
       "      <td>0.067778</td>\n",
       "      <td>0.070395</td>\n",
       "      <td>0.068324</td>\n",
       "      <td>alpha=0.2</td>\n",
       "    </tr>\n",
       "  </tbody>\n",
       "</table>\n",
       "</div>"
      ],
      "text/plain": [
       "                       model  score_cv  score_test  score_train  \\\n",
       "0        linear SGDRegressor  0.067427    0.069959     0.068097   \n",
       "5               linear Ridge  0.067458    0.070056     0.068094   \n",
       "8   Polynomial SGD Regressor  0.067509    0.069908     0.068110   \n",
       "11          Polynomial Ridge  0.067522    0.070011     0.068204   \n",
       "9           Polynomial Ridge  0.067522    0.070011     0.068204   \n",
       "10          Polynomial Ridge  0.067522    0.070011     0.068204   \n",
       "1        linear SGDRegressor  0.067543    0.070072     0.068099   \n",
       "2        linear SGDRegressor  0.067599    0.070180     0.068194   \n",
       "4               linear Ridge  0.067671    0.070272     0.068251   \n",
       "3               linear Ridge  0.067716    0.070323     0.068282   \n",
       "6               linear Ridge  0.067748    0.070359     0.068303   \n",
       "7               linear Ridge  0.067778    0.070395     0.068324   \n",
       "\n",
       "                          tags  \n",
       "0    alpha0.001, max_iter=1000  \n",
       "5                     alpha=10  \n",
       "8                     degree=4  \n",
       "11        degree=4, alpha=10.0  \n",
       "9                     degree=4  \n",
       "10         degree=4, alpha=0.5  \n",
       "1   alpha0.0001, max_iter=2000  \n",
       "2   alpha0.0001, max_iter=1000  \n",
       "4                      alpha=2  \n",
       "3                          NaN  \n",
       "6                    alpha=0.5  \n",
       "7                    alpha=0.2  "
      ]
     },
     "execution_count": 53,
     "metadata": {},
     "output_type": "execute_result"
    }
   ],
   "source": [
    "results_df = pd.DataFrame(results)\n",
    "results_df.sort_values(\"score_cv\")"
   ]
  },
  {
   "cell_type": "code",
   "execution_count": 54,
   "metadata": {
    "collapsed": true
   },
   "outputs": [],
   "source": [
    "results_df.to_csv(\"nn_results_df.csv\", index=False)"
   ]
  },
  {
   "cell_type": "markdown",
   "metadata": {},
   "source": [
    " "
   ]
  },
  {
   "cell_type": "markdown",
   "metadata": {},
   "source": [
    "##### Multi Layer Perceptron Regressor"
   ]
  },
  {
   "cell_type": "code",
   "execution_count": 56,
   "metadata": {
    "collapsed": true
   },
   "outputs": [],
   "source": [
    "mlp_results = []"
   ]
  },
  {
   "cell_type": "code",
   "execution_count": 57,
   "metadata": {},
   "outputs": [
    {
     "name": "stdout",
     "output_type": "stream",
     "text": [
      "hidden_layer_sizes: 10\n",
      "        model  score_cv  score_test  score_train                   tags\n",
      "0  linear MLP  0.069422    0.069914     0.067981  hidden_layer_sizes=10\n",
      "hidden_layer_sizes: 50\n",
      "        model  score_cv  score_test  score_train                   tags\n",
      "0  linear MLP  0.069422    0.069914     0.067981  hidden_layer_sizes=10\n",
      "1  linear MLP  0.068362    0.072330     0.070871  hidden_layer_sizes=50\n",
      "hidden_layer_sizes: 100\n",
      "        model  score_cv  score_test  score_train                    tags\n",
      "0  linear MLP  0.069422    0.069914     0.067981   hidden_layer_sizes=10\n",
      "1  linear MLP  0.068362    0.072330     0.070871   hidden_layer_sizes=50\n",
      "2  linear MLP  0.069256    0.072646     0.070743  hidden_layer_sizes=100\n",
      "hidden_layer_sizes: 300\n",
      "        model  score_cv  score_test  score_train                    tags\n",
      "0  linear MLP  0.069422    0.069914     0.067981   hidden_layer_sizes=10\n",
      "1  linear MLP  0.068362    0.072330     0.070871   hidden_layer_sizes=50\n",
      "2  linear MLP  0.069256    0.072646     0.070743  hidden_layer_sizes=100\n",
      "3  linear MLP  0.068844    0.069920     0.068120  hidden_layer_sizes=300\n",
      "hidden_layer_sizes: 500\n",
      "        model  score_cv  score_test  score_train                    tags\n",
      "0  linear MLP  0.069422    0.069914     0.067981   hidden_layer_sizes=10\n",
      "1  linear MLP  0.068362    0.072330     0.070871   hidden_layer_sizes=50\n",
      "2  linear MLP  0.069256    0.072646     0.070743  hidden_layer_sizes=100\n",
      "3  linear MLP  0.068844    0.069920     0.068120  hidden_layer_sizes=300\n",
      "4  linear MLP  0.069729    0.070668     0.069105  hidden_layer_sizes=500\n",
      "hidden_layer_sizes: 700\n",
      "        model  score_cv  score_test  score_train                    tags\n",
      "0  linear MLP  0.069422    0.069914     0.067981   hidden_layer_sizes=10\n",
      "1  linear MLP  0.068362    0.072330     0.070871   hidden_layer_sizes=50\n",
      "2  linear MLP  0.069256    0.072646     0.070743  hidden_layer_sizes=100\n",
      "3  linear MLP  0.068844    0.069920     0.068120  hidden_layer_sizes=300\n",
      "4  linear MLP  0.069729    0.070668     0.069105  hidden_layer_sizes=500\n",
      "5  linear MLP  0.069410    0.069604     0.067878  hidden_layer_sizes=700\n"
     ]
    }
   ],
   "source": [
    "for hidden_layer_sizes in [10,50,100,300,500,700]:\n",
    "    model = MLPRegressor(hidden_layer_sizes=[int(len(train[use_columns].columns) * 1.5)] * hidden_layer_sizes)\n",
    "    print(\"hidden_layer_sizes:\", hidden_layer_sizes)\n",
    "    scores_dict = scores(model, train[use_columns], train[\"logerror\"], \n",
    "                            test[use_columns],  test[\"logerror\"], k, scorer=scorer)\n",
    "    mlp_results.append({\"model\": \"linear MLP\", \"score_test\": scores_dict[\"test\"], \"score_train\": scores_dict[\"train\"], \"score_cv\": scores_dict[\"validation\"], \"tags\": \"hidden_layer_sizes=\" + str(hidden_layer_sizes)})\n",
    "    print(pd.DataFrame(mlp_results))"
   ]
  },
  {
   "cell_type": "code",
   "execution_count": null,
   "metadata": {
    "collapsed": true
   },
   "outputs": [],
   "source": []
  },
  {
   "cell_type": "code",
   "execution_count": 58,
   "metadata": {},
   "outputs": [
    {
     "name": "stdout",
     "output_type": "stream",
     "text": [
      "hidden_layer_sizes: 10\n",
      "            model  score_cv  score_test  score_train                    tags\n",
      "0      linear MLP  0.069422    0.069914     0.067981   hidden_layer_sizes=10\n",
      "1      linear MLP  0.068362    0.072330     0.070871   hidden_layer_sizes=50\n",
      "2      linear MLP  0.069256    0.072646     0.070743  hidden_layer_sizes=100\n",
      "3      linear MLP  0.068844    0.069920     0.068120  hidden_layer_sizes=300\n",
      "4      linear MLP  0.069729    0.070668     0.069105  hidden_layer_sizes=500\n",
      "5      linear MLP  0.069410    0.069604     0.067878  hidden_layer_sizes=700\n",
      "6  polynomial MLP  0.068510    0.070471     0.068630   hidden_layer_sizes=10\n",
      "hidden_layer_sizes: 50\n",
      "            model  score_cv  score_test  score_train                    tags\n",
      "0      linear MLP  0.069422    0.069914     0.067981   hidden_layer_sizes=10\n",
      "1      linear MLP  0.068362    0.072330     0.070871   hidden_layer_sizes=50\n",
      "2      linear MLP  0.069256    0.072646     0.070743  hidden_layer_sizes=100\n",
      "3      linear MLP  0.068844    0.069920     0.068120  hidden_layer_sizes=300\n",
      "4      linear MLP  0.069729    0.070668     0.069105  hidden_layer_sizes=500\n",
      "5      linear MLP  0.069410    0.069604     0.067878  hidden_layer_sizes=700\n",
      "6  polynomial MLP  0.068510    0.070471     0.068630   hidden_layer_sizes=10\n",
      "7  polynomial MLP  0.068061    0.070801     0.068944   hidden_layer_sizes=50\n",
      "hidden_layer_sizes: 100\n",
      "            model  score_cv  score_test  score_train                    tags\n",
      "0      linear MLP  0.069422    0.069914     0.067981   hidden_layer_sizes=10\n",
      "1      linear MLP  0.068362    0.072330     0.070871   hidden_layer_sizes=50\n",
      "2      linear MLP  0.069256    0.072646     0.070743  hidden_layer_sizes=100\n",
      "3      linear MLP  0.068844    0.069920     0.068120  hidden_layer_sizes=300\n",
      "4      linear MLP  0.069729    0.070668     0.069105  hidden_layer_sizes=500\n",
      "5      linear MLP  0.069410    0.069604     0.067878  hidden_layer_sizes=700\n",
      "6  polynomial MLP  0.068510    0.070471     0.068630   hidden_layer_sizes=10\n",
      "7  polynomial MLP  0.068061    0.070801     0.068944   hidden_layer_sizes=50\n",
      "8  polynomial MLP  0.068166    0.070451     0.068611  hidden_layer_sizes=100\n",
      "hidden_layer_sizes: 300\n",
      "            model  score_cv  score_test  score_train                    tags\n",
      "0      linear MLP  0.069422    0.069914     0.067981   hidden_layer_sizes=10\n",
      "1      linear MLP  0.068362    0.072330     0.070871   hidden_layer_sizes=50\n",
      "2      linear MLP  0.069256    0.072646     0.070743  hidden_layer_sizes=100\n",
      "3      linear MLP  0.068844    0.069920     0.068120  hidden_layer_sizes=300\n",
      "4      linear MLP  0.069729    0.070668     0.069105  hidden_layer_sizes=500\n",
      "5      linear MLP  0.069410    0.069604     0.067878  hidden_layer_sizes=700\n",
      "6  polynomial MLP  0.068510    0.070471     0.068630   hidden_layer_sizes=10\n",
      "7  polynomial MLP  0.068061    0.070801     0.068944   hidden_layer_sizes=50\n",
      "8  polynomial MLP  0.068166    0.070451     0.068611  hidden_layer_sizes=100\n",
      "9  polynomial MLP  0.067525    0.071771     0.069885  hidden_layer_sizes=300\n",
      "hidden_layer_sizes: 500\n",
      "             model  score_cv  score_test  score_train                    tags\n",
      "0       linear MLP  0.069422    0.069914     0.067981   hidden_layer_sizes=10\n",
      "1       linear MLP  0.068362    0.072330     0.070871   hidden_layer_sizes=50\n",
      "2       linear MLP  0.069256    0.072646     0.070743  hidden_layer_sizes=100\n",
      "3       linear MLP  0.068844    0.069920     0.068120  hidden_layer_sizes=300\n",
      "4       linear MLP  0.069729    0.070668     0.069105  hidden_layer_sizes=500\n",
      "5       linear MLP  0.069410    0.069604     0.067878  hidden_layer_sizes=700\n",
      "6   polynomial MLP  0.068510    0.070471     0.068630   hidden_layer_sizes=10\n",
      "7   polynomial MLP  0.068061    0.070801     0.068944   hidden_layer_sizes=50\n",
      "8   polynomial MLP  0.068166    0.070451     0.068611  hidden_layer_sizes=100\n",
      "9   polynomial MLP  0.067525    0.071771     0.069885  hidden_layer_sizes=300\n",
      "10  polynomial MLP  0.067771    0.071121     0.069252  hidden_layer_sizes=500\n",
      "hidden_layer_sizes: 700\n",
      "             model  score_cv  score_test  score_train                    tags\n",
      "0       linear MLP  0.069422    0.069914     0.067981   hidden_layer_sizes=10\n",
      "1       linear MLP  0.068362    0.072330     0.070871   hidden_layer_sizes=50\n",
      "2       linear MLP  0.069256    0.072646     0.070743  hidden_layer_sizes=100\n",
      "3       linear MLP  0.068844    0.069920     0.068120  hidden_layer_sizes=300\n",
      "4       linear MLP  0.069729    0.070668     0.069105  hidden_layer_sizes=500\n",
      "5       linear MLP  0.069410    0.069604     0.067878  hidden_layer_sizes=700\n",
      "6   polynomial MLP  0.068510    0.070471     0.068630   hidden_layer_sizes=10\n",
      "7   polynomial MLP  0.068061    0.070801     0.068944   hidden_layer_sizes=50\n",
      "8   polynomial MLP  0.068166    0.070451     0.068611  hidden_layer_sizes=100\n",
      "9   polynomial MLP  0.067525    0.071771     0.069885  hidden_layer_sizes=300\n",
      "10  polynomial MLP  0.067771    0.071121     0.069252  hidden_layer_sizes=500\n",
      "11  polynomial MLP  0.067126    0.071801     0.069914  hidden_layer_sizes=700\n"
     ]
    }
   ],
   "source": [
    "for hidden_layer_sizes in [10,50,100,300,500,700]:\n",
    "    model = MLPRegressor(hidden_layer_sizes=[int(len(poly_train.columns) * 1.5)] * hidden_layer_sizes)\n",
    "    print(\"hidden_layer_sizes:\", hidden_layer_sizes)\n",
    "    scores_dict = scores(model, poly_train, train[\"logerror\"], \n",
    "                            poly_test[poly_train.columns.tolist()],  test[\"logerror\"], k, scorer=scorer)\n",
    "    mlp_results.append({\"model\": \"polynomial MLP\", \"score_test\": scores_dict[\"test\"], \"score_train\": scores_dict[\"train\"], \"score_cv\": scores_dict[\"validation\"], \"tags\": \"hidden_layer_sizes=\" + str(hidden_layer_sizes)})\n",
    "    print(pd.DataFrame(mlp_results))"
   ]
  },
  {
   "cell_type": "code",
   "execution_count": null,
   "metadata": {
    "collapsed": true
   },
   "outputs": [],
   "source": []
  },
  {
   "cell_type": "code",
   "execution_count": null,
   "metadata": {
    "collapsed": true
   },
   "outputs": [],
   "source": []
  },
  {
   "cell_type": "code",
   "execution_count": 59,
   "metadata": {
    "collapsed": true
   },
   "outputs": [],
   "source": [
    "mlp_results_df = pd.DataFrame(mlp_results).sort_values(\"score_cv\")"
   ]
  },
  {
   "cell_type": "code",
   "execution_count": 60,
   "metadata": {},
   "outputs": [
    {
     "data": {
      "text/html": [
       "<div>\n",
       "<style>\n",
       "    .dataframe thead tr:only-child th {\n",
       "        text-align: right;\n",
       "    }\n",
       "\n",
       "    .dataframe thead th {\n",
       "        text-align: left;\n",
       "    }\n",
       "\n",
       "    .dataframe tbody tr th {\n",
       "        vertical-align: top;\n",
       "    }\n",
       "</style>\n",
       "<table border=\"1\" class=\"dataframe\">\n",
       "  <thead>\n",
       "    <tr style=\"text-align: right;\">\n",
       "      <th></th>\n",
       "      <th>model</th>\n",
       "      <th>score_cv</th>\n",
       "      <th>score_test</th>\n",
       "      <th>score_train</th>\n",
       "      <th>tags</th>\n",
       "      <th>hidden_layer_sizes</th>\n",
       "    </tr>\n",
       "  </thead>\n",
       "  <tbody>\n",
       "    <tr>\n",
       "      <th>11</th>\n",
       "      <td>polynomial MLP</td>\n",
       "      <td>0.067126</td>\n",
       "      <td>0.071801</td>\n",
       "      <td>0.069914</td>\n",
       "      <td>hidden_layer_sizes=700</td>\n",
       "      <td>700</td>\n",
       "    </tr>\n",
       "    <tr>\n",
       "      <th>9</th>\n",
       "      <td>polynomial MLP</td>\n",
       "      <td>0.067525</td>\n",
       "      <td>0.071771</td>\n",
       "      <td>0.069885</td>\n",
       "      <td>hidden_layer_sizes=300</td>\n",
       "      <td>300</td>\n",
       "    </tr>\n",
       "    <tr>\n",
       "      <th>10</th>\n",
       "      <td>polynomial MLP</td>\n",
       "      <td>0.067771</td>\n",
       "      <td>0.071121</td>\n",
       "      <td>0.069252</td>\n",
       "      <td>hidden_layer_sizes=500</td>\n",
       "      <td>500</td>\n",
       "    </tr>\n",
       "    <tr>\n",
       "      <th>7</th>\n",
       "      <td>polynomial MLP</td>\n",
       "      <td>0.068061</td>\n",
       "      <td>0.070801</td>\n",
       "      <td>0.068944</td>\n",
       "      <td>hidden_layer_sizes=50</td>\n",
       "      <td>50</td>\n",
       "    </tr>\n",
       "    <tr>\n",
       "      <th>8</th>\n",
       "      <td>polynomial MLP</td>\n",
       "      <td>0.068166</td>\n",
       "      <td>0.070451</td>\n",
       "      <td>0.068611</td>\n",
       "      <td>hidden_layer_sizes=100</td>\n",
       "      <td>100</td>\n",
       "    </tr>\n",
       "    <tr>\n",
       "      <th>1</th>\n",
       "      <td>linear MLP</td>\n",
       "      <td>0.068362</td>\n",
       "      <td>0.072330</td>\n",
       "      <td>0.070871</td>\n",
       "      <td>hidden_layer_sizes=50</td>\n",
       "      <td>50</td>\n",
       "    </tr>\n",
       "    <tr>\n",
       "      <th>6</th>\n",
       "      <td>polynomial MLP</td>\n",
       "      <td>0.068510</td>\n",
       "      <td>0.070471</td>\n",
       "      <td>0.068630</td>\n",
       "      <td>hidden_layer_sizes=10</td>\n",
       "      <td>10</td>\n",
       "    </tr>\n",
       "    <tr>\n",
       "      <th>3</th>\n",
       "      <td>linear MLP</td>\n",
       "      <td>0.068844</td>\n",
       "      <td>0.069920</td>\n",
       "      <td>0.068120</td>\n",
       "      <td>hidden_layer_sizes=300</td>\n",
       "      <td>300</td>\n",
       "    </tr>\n",
       "    <tr>\n",
       "      <th>2</th>\n",
       "      <td>linear MLP</td>\n",
       "      <td>0.069256</td>\n",
       "      <td>0.072646</td>\n",
       "      <td>0.070743</td>\n",
       "      <td>hidden_layer_sizes=100</td>\n",
       "      <td>100</td>\n",
       "    </tr>\n",
       "    <tr>\n",
       "      <th>5</th>\n",
       "      <td>linear MLP</td>\n",
       "      <td>0.069410</td>\n",
       "      <td>0.069604</td>\n",
       "      <td>0.067878</td>\n",
       "      <td>hidden_layer_sizes=700</td>\n",
       "      <td>700</td>\n",
       "    </tr>\n",
       "    <tr>\n",
       "      <th>0</th>\n",
       "      <td>linear MLP</td>\n",
       "      <td>0.069422</td>\n",
       "      <td>0.069914</td>\n",
       "      <td>0.067981</td>\n",
       "      <td>hidden_layer_sizes=10</td>\n",
       "      <td>10</td>\n",
       "    </tr>\n",
       "    <tr>\n",
       "      <th>4</th>\n",
       "      <td>linear MLP</td>\n",
       "      <td>0.069729</td>\n",
       "      <td>0.070668</td>\n",
       "      <td>0.069105</td>\n",
       "      <td>hidden_layer_sizes=500</td>\n",
       "      <td>500</td>\n",
       "    </tr>\n",
       "  </tbody>\n",
       "</table>\n",
       "</div>"
      ],
      "text/plain": [
       "             model  score_cv  score_test  score_train                    tags  \\\n",
       "11  polynomial MLP  0.067126    0.071801     0.069914  hidden_layer_sizes=700   \n",
       "9   polynomial MLP  0.067525    0.071771     0.069885  hidden_layer_sizes=300   \n",
       "10  polynomial MLP  0.067771    0.071121     0.069252  hidden_layer_sizes=500   \n",
       "7   polynomial MLP  0.068061    0.070801     0.068944   hidden_layer_sizes=50   \n",
       "8   polynomial MLP  0.068166    0.070451     0.068611  hidden_layer_sizes=100   \n",
       "1       linear MLP  0.068362    0.072330     0.070871   hidden_layer_sizes=50   \n",
       "6   polynomial MLP  0.068510    0.070471     0.068630   hidden_layer_sizes=10   \n",
       "3       linear MLP  0.068844    0.069920     0.068120  hidden_layer_sizes=300   \n",
       "2       linear MLP  0.069256    0.072646     0.070743  hidden_layer_sizes=100   \n",
       "5       linear MLP  0.069410    0.069604     0.067878  hidden_layer_sizes=700   \n",
       "0       linear MLP  0.069422    0.069914     0.067981   hidden_layer_sizes=10   \n",
       "4       linear MLP  0.069729    0.070668     0.069105  hidden_layer_sizes=500   \n",
       "\n",
       "    hidden_layer_sizes  \n",
       "11                 700  \n",
       "9                  300  \n",
       "10                 500  \n",
       "7                   50  \n",
       "8                  100  \n",
       "1                   50  \n",
       "6                   10  \n",
       "3                  300  \n",
       "2                  100  \n",
       "5                  700  \n",
       "0                   10  \n",
       "4                  500  "
      ]
     },
     "execution_count": 60,
     "metadata": {},
     "output_type": "execute_result"
    }
   ],
   "source": [
    "mlp_results_df[\"hidden_layer_sizes\"] = mlp_results_df[\"tags\"].apply(lambda value: int(value.split(\"=\")[1]))\n",
    "mlp_results_df = mlp_results_df.sort_values(\"hidden_layer_sizes\")\n",
    "mlp_results_df.to_csv(\"nn_mlp_results_df.csv\", index=False)\n",
    "mlp_results_df.sort_values(\"score_cv\")"
   ]
  },
  {
   "cell_type": "markdown",
   "metadata": {},
   "source": [
    " "
   ]
  },
  {
   "cell_type": "markdown",
   "metadata": {},
   "source": [
    " "
   ]
  },
  {
   "cell_type": "code",
   "execution_count": null,
   "metadata": {
    "collapsed": true
   },
   "outputs": [],
   "source": [
    "from bokeh.plotting import figure\n",
    "from bokeh.io import output_notebook, show\n",
    "from bokeh.layouts import gridplot, row\n",
    "output_notebook()"
   ]
  },
  {
   "cell_type": "code",
   "execution_count": null,
   "metadata": {
    "collapsed": true
   },
   "outputs": [],
   "source": [
    "poli_mlp = mlp_results_df[mlp_results_df[\"model\"] == \"polynomial MLP\"]\n",
    "linear_mlp = mlp_results_df[mlp_results_df[\"model\"] == \"linear MLP\"]"
   ]
  },
  {
   "cell_type": "code",
   "execution_count": null,
   "metadata": {
    "collapsed": true
   },
   "outputs": [],
   "source": [
    "def plot_mlp_scores(data, range_y, title):\n",
    "    p = figure(width=400, height=400, tools=[\"save\", \"xpan\", \"xwheel_zoom\", \"reset\"], \n",
    "               x_axis_label = \"n_layers\", y_axis_label = \"score\", title=title, y_range=range_y)\n",
    "    \n",
    "    p.line(x=data[\"hidden_layer_sizes\"], y=data[\"score_train\"], \n",
    "       line_width=2, color=\"green\", legend=\"score_train\")\n",
    "    \n",
    "    p.line(x=data[\"hidden_layer_sizes\"], y=data[\"score_cv\"], \n",
    "       line_width=2, color=\"red\", legend=\"score_cv\")\n",
    "    \n",
    "        p.line(x=data[\"hidden_layer_sizes\"], y=data[\"score_test\"], \n",
    "       line_width=2, color=\"red\", legend=\"score_test\")\n",
    "    \n",
    "    \n",
    "    \n",
    "    return p"
   ]
  },
  {
   "cell_type": "code",
   "execution_count": null,
   "metadata": {
    "collapsed": true
   },
   "outputs": [],
   "source": [
    "range_y = (0.066, 0.0754)\n",
    "\n",
    "p1 = plot_mlp_scores(linear_mlp, range_y, title=\"Linear MLP\")\n",
    "p2 = plot_mlp_scores(poli_mlp, range_y, title=\"Polynomial MLP\")\n",
    "grid = gridplot([[p1, p2]])\n",
    "show(grid)"
   ]
  },
  {
   "cell_type": "code",
   "execution_count": null,
   "metadata": {
    "collapsed": true
   },
   "outputs": [],
   "source": []
  },
  {
   "cell_type": "code",
   "execution_count": 62,
   "metadata": {},
   "outputs": [
    {
     "data": {
      "text/html": [
       "<div>\n",
       "<style>\n",
       "    .dataframe thead tr:only-child th {\n",
       "        text-align: right;\n",
       "    }\n",
       "\n",
       "    .dataframe thead th {\n",
       "        text-align: left;\n",
       "    }\n",
       "\n",
       "    .dataframe tbody tr th {\n",
       "        vertical-align: top;\n",
       "    }\n",
       "</style>\n",
       "<table border=\"1\" class=\"dataframe\">\n",
       "  <thead>\n",
       "    <tr style=\"text-align: right;\">\n",
       "      <th></th>\n",
       "      <th>calculatedfinishedsquarefeet</th>\n",
       "      <th>finishedsquarefeet6</th>\n",
       "      <th>finishedsquarefeet12</th>\n",
       "      <th>finishedsquarefeet15</th>\n",
       "      <th>garagecarcnt</th>\n",
       "      <th>yearbuilt</th>\n",
       "      <th>taxamount</th>\n",
       "      <th>structuretaxvaluedollarcnt</th>\n",
       "      <th>landtaxvaluedollarcnt</th>\n",
       "      <th>nn_logerror_median</th>\n",
       "    </tr>\n",
       "  </thead>\n",
       "  <tbody>\n",
       "    <tr>\n",
       "      <th>0</th>\n",
       "      <td>-0.004175</td>\n",
       "      <td>-0.001056</td>\n",
       "      <td>-0.002158</td>\n",
       "      <td>-0.001245</td>\n",
       "      <td>0.002592</td>\n",
       "      <td>0.243215</td>\n",
       "      <td>0.006541</td>\n",
       "      <td>0.000109</td>\n",
       "      <td>0.010794</td>\n",
       "      <td>-0.004996</td>\n",
       "    </tr>\n",
       "    <tr>\n",
       "      <th>1</th>\n",
       "      <td>0.017945</td>\n",
       "      <td>-0.001056</td>\n",
       "      <td>0.022978</td>\n",
       "      <td>-0.001245</td>\n",
       "      <td>0.002592</td>\n",
       "      <td>0.297061</td>\n",
       "      <td>-0.007099</td>\n",
       "      <td>0.000261</td>\n",
       "      <td>-0.006880</td>\n",
       "      <td>0.014409</td>\n",
       "    </tr>\n",
       "    <tr>\n",
       "      <th>2</th>\n",
       "      <td>0.023575</td>\n",
       "      <td>-0.001056</td>\n",
       "      <td>0.029374</td>\n",
       "      <td>-0.001245</td>\n",
       "      <td>0.002592</td>\n",
       "      <td>0.050907</td>\n",
       "      <td>0.000806</td>\n",
       "      <td>-0.003837</td>\n",
       "      <td>-0.009226</td>\n",
       "      <td>-0.000799</td>\n",
       "    </tr>\n",
       "    <tr>\n",
       "      <th>3</th>\n",
       "      <td>0.024718</td>\n",
       "      <td>-0.001056</td>\n",
       "      <td>0.030674</td>\n",
       "      <td>-0.001245</td>\n",
       "      <td>0.002592</td>\n",
       "      <td>-0.002939</td>\n",
       "      <td>-0.003501</td>\n",
       "      <td>-0.001606</td>\n",
       "      <td>-0.006890</td>\n",
       "      <td>0.001133</td>\n",
       "    </tr>\n",
       "    <tr>\n",
       "      <th>4</th>\n",
       "      <td>-0.026648</td>\n",
       "      <td>-0.001056</td>\n",
       "      <td>-0.027694</td>\n",
       "      <td>-0.001245</td>\n",
       "      <td>0.002592</td>\n",
       "      <td>-0.095247</td>\n",
       "      <td>-0.014509</td>\n",
       "      <td>-0.015324</td>\n",
       "      <td>-0.008719</td>\n",
       "      <td>-0.003877</td>\n",
       "    </tr>\n",
       "  </tbody>\n",
       "</table>\n",
       "</div>"
      ],
      "text/plain": [
       "   calculatedfinishedsquarefeet  finishedsquarefeet6  finishedsquarefeet12  \\\n",
       "0                     -0.004175            -0.001056             -0.002158   \n",
       "1                      0.017945            -0.001056              0.022978   \n",
       "2                      0.023575            -0.001056              0.029374   \n",
       "3                      0.024718            -0.001056              0.030674   \n",
       "4                     -0.026648            -0.001056             -0.027694   \n",
       "\n",
       "   finishedsquarefeet15  garagecarcnt  yearbuilt  taxamount  \\\n",
       "0             -0.001245      0.002592   0.243215   0.006541   \n",
       "1             -0.001245      0.002592   0.297061  -0.007099   \n",
       "2             -0.001245      0.002592   0.050907   0.000806   \n",
       "3             -0.001245      0.002592  -0.002939  -0.003501   \n",
       "4             -0.001245      0.002592  -0.095247  -0.014509   \n",
       "\n",
       "   structuretaxvaluedollarcnt  landtaxvaluedollarcnt  nn_logerror_median  \n",
       "0                    0.000109               0.010794           -0.004996  \n",
       "1                    0.000261              -0.006880            0.014409  \n",
       "2                   -0.003837              -0.009226           -0.000799  \n",
       "3                   -0.001606              -0.006890            0.001133  \n",
       "4                   -0.015324              -0.008719           -0.003877  "
      ]
     },
     "execution_count": 62,
     "metadata": {},
     "output_type": "execute_result"
    }
   ],
   "source": [
    "train[use_columns].head()"
   ]
  }
 ],
 "metadata": {
  "anaconda-cloud": {},
  "kernelspec": {
   "display_name": "Python [conda root]",
   "language": "python",
   "name": "conda-root-py"
  },
  "language_info": {
   "codemirror_mode": {
    "name": "ipython",
    "version": 3
   },
   "file_extension": ".py",
   "mimetype": "text/x-python",
   "name": "python",
   "nbconvert_exporter": "python",
   "pygments_lexer": "ipython3",
   "version": "3.5.2"
  }
 },
 "nbformat": 4,
 "nbformat_minor": 2
}
