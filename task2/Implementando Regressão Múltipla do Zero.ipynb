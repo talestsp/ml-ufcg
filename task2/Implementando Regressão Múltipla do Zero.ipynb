{
 "cells": [
  {
   "cell_type": "markdown",
   "metadata": {},
   "source": [
    "## Aprendizado de Máquina\n",
    "Implementando Regressão Múltipla do Zero "
   ]
  },
  {
   "cell_type": "code",
   "execution_count": 1,
   "metadata": {},
   "outputs": [],
   "source": [
    "from numpy import append, genfromtxt, array\n",
    "from sklearn import linear_model\n",
    "import pandas as pd\n"
   ]
  },
  {
   "cell_type": "markdown",
   "metadata": {},
   "source": [
    " "
   ]
  },
  {
   "cell_type": "markdown",
   "metadata": {},
   "source": [
    "### <font color=\"blue\">Minha implementação</font>"
   ]
  },
  {
   "cell_type": "code",
   "execution_count": 2,
   "metadata": {
    "collapsed": true
   },
   "outputs": [],
   "source": [
    "def compute_error_for_given_function(w_array, array_points):\n",
    "    total_error = 0\n",
    "    for i in range(len(array_points)):\n",
    "        tuple_len = len(array_points[i])\n",
    "        x_array = append(array(1), array_points[i, 0:tuple_len - 1])\n",
    "        y = array_points[i, tuple_len - 1]\n",
    "\n",
    "        total_error += (y - (hypothesis(w_array, x_array))) ** 2\n",
    "\n",
    "    return total_error / float(len(array_points))\n",
    "\n",
    "def compute_error_for_given_function_r2(w_array, array_points):\n",
    "    total_error = 0\n",
    "    for i in range(len(array_points)):\n",
    "        tuple_len = len(array_points[i])\n",
    "        x_array = append(array(1), array_points[i, 0:tuple_len - 1])\n",
    "        y = array_points[i, tuple_len - 1]\n",
    "\n",
    "        total_error += (y - (hypothesis(w_array, x_array))) ** 2\n",
    "            \n",
    "    y_array = array_points[:, [array_points.shape[1] - 1]]\n",
    "    y_mean = sum(y_array) / len(y_array)\n",
    "        \n",
    "    v = 0\n",
    "    for y in y_array[:,0]:\n",
    "        v += (y - y_mean) **2\n",
    "        \n",
    "    return 1 - (total_error / v)\n",
    "\n",
    "def hypothesis(w_array, x_array):\n",
    "    assert len(w_array) == len(x_array)\n",
    "\n",
    "    total = 0\n",
    "    for i in range(len(w_array)):\n",
    "        total += w_array[i] * x_array[i]\n",
    "\n",
    "    return total\n",
    "\n",
    "def step_gradient(current_w_array, array_points, learning_rate):\n",
    "    #gradient_descent\n",
    "    w_gradient_array = [0] * array_points.shape[1]\n",
    "    N = float(len(array_points))\n",
    "\n",
    "    for i in range(len(array_points)):\n",
    "        tuple_len = len(array_points[i])\n",
    "\n",
    "        x_array = append(array(1), array_points[i, 0:tuple_len - 1])\n",
    "        y = array_points[i, tuple_len - 1]\n",
    "\n",
    "        for i in range(len(w_gradient_array)):\n",
    "            w_gradient_array[i] += gradiente_descent_calc(current_w_array, x_array, N, y, x_array[i])\n",
    "\n",
    "    #update coefficients\n",
    "    new_w_array = [None] * len(current_w_array)\n",
    "    for i in range(len(current_w_array)):\n",
    "        new_w_array[i] = current_w_array[i] - (2 * learning_rate * w_gradient_array[i])\n",
    "\n",
    "    return new_w_array\n",
    "\n",
    "def gradiente_descent_calc(current_w_array, x_array, N, y, x):\n",
    "    assert len(current_w_array) == len(x_array)\n",
    "\n",
    "    return -1 * (y - (hypothesis(current_w_array, x_array))) * x\n",
    "\n",
    "def gradient_descent_runner(points, initial_w_array, learning_rate, num_iterations, cost_tolerance, verbosity=False):\n",
    "    w_array = initial_w_array\n",
    "    \n",
    "    rss = compute_error_for_given_function(w_array, array_points=points)\n",
    "    \n",
    "    iterations_count = 0\n",
    "    while rss >= cost_tolerance and iterations_count <= num_iterations:\n",
    "        iterations_count += 1    \n",
    "        \n",
    "        w_array = step_gradient(w_array, array(points), learning_rate)\n",
    "        \n",
    "        rss = compute_error_for_given_function(w_array, array_points=points)\n",
    "        \n",
    "        if verbosity:\n",
    "            print(\"Current RSS:\", rss) #item 2\n",
    "\n",
    "    print()\n",
    "    print(\"---\\nFinal RSS:\", rss)\n",
    "    return w_array, rss\n",
    "\n",
    "def run(data, learning_rate=0.0001, num_iterations=1000, cost_tolerance=float(\"-inf\"), verbosity=False):\n",
    "    initial_w_array = [0] * data.shape[1]\n",
    "\n",
    "    w_array, rss = gradient_descent_runner(data, initial_w_array, learning_rate, num_iterations, cost_tolerance, verbosity)\n",
    "\n",
    "    print(\"\")\n",
    "    for i in range(len(w_array)):\n",
    "        print(\"w{}:\".format(i), w_array[i])\n",
    "    \n",
    "    return w_array, rss"
   ]
  },
  {
   "cell_type": "markdown",
   "metadata": {},
   "source": [
    " "
   ]
  },
  {
   "cell_type": "code",
   "execution_count": 3,
   "metadata": {},
   "outputs": [],
   "source": [
    "def load_data(data_filename, header=False):\n",
    "    points = genfromtxt(data_filename, delimiter=\",\")\n",
    "    if header:\n",
    "        return points[1:]\n",
    "    else:\n",
    "        return points"
   ]
  },
  {
   "cell_type": "code",
   "execution_count": 4,
   "metadata": {},
   "outputs": [
    {
     "name": "stdout",
     "output_type": "stream",
     "text": [
      "\n",
      "---\n",
      "Final RSS: 0.427271889165\n",
      "\n",
      "w0: 0.228735663008\n",
      "w1: 0.130081796764\n",
      "w2: 0.115498350182\n",
      "w3: 0.160663125794\n",
      "w4: 0.457792130014\n",
      "w5: 0.0388481221501\n"
     ]
    }
   ],
   "source": [
    "data = load_data(\"data/sample_treino.csv\", header=True)\n",
    "\n",
    "coeffs, rss = run(data, learning_rate=0.00002, num_iterations=5000)"
   ]
  },
  {
   "cell_type": "markdown",
   "metadata": {},
   "source": [
    " "
   ]
  },
  {
   "cell_type": "markdown",
   "metadata": {},
   "source": [
    "### <font color=\"blue\">Implementação do sklearn</font>"
   ]
  },
  {
   "cell_type": "code",
   "execution_count": 5,
   "metadata": {},
   "outputs": [
    {
     "name": "stdout",
     "output_type": "stream",
     "text": [
      "Final Score: 0.423803240951 \n",
      "\n",
      "w0: 1.737711513794439\n",
      "w1: 0.10304143246259931\n",
      "w2: 0.046436700850734314\n",
      "w3: 0.16409834419165825\n",
      "w4: 0.3811784266558142\n",
      "w5: 0.020278157624843418\n"
     ]
    }
   ],
   "source": [
    "model = linear_model.LinearRegression()\n",
    "y = data[:, [data.shape[1] - 1]]\n",
    "X = data[:, 0:data.shape[1] - 1]\n",
    "model.fit(X=X, y=y)\n",
    "\n",
    "print(\"Final Score:\", model.score(X=X, y=y), \"\\n\")\n",
    "\n",
    "sklearn_coeffs = model.intercept_.tolist() + model.coef_[0].tolist()\n",
    "\n",
    "for i in range(len(sklearn_coeffs)):\n",
    "        print(\"w{}:\".format(i), sklearn_coeffs[i])"
   ]
  },
  {
   "cell_type": "markdown",
   "metadata": {},
   "source": [
    " "
   ]
  },
  {
   "cell_type": "markdown",
   "metadata": {},
   "source": [
    "Há alguma diferença entre os coeficientes da minha implementação e o do **sklearn**.\n",
    "É bem provável que esta discrepância seja devido à métrica de *score* trabalhada pelo modelo **LinearRegression**. Sua documentação fala que é usado o R2.<br>\n",
    "http://scikit-learn.org/stable/modules/generated/sklearn.linear_model.LinearRegression.html#sklearn.linear_model.LinearRegression.score"
   ]
  },
  {
   "cell_type": "code",
   "execution_count": 6,
   "metadata": {},
   "outputs": [
    {
     "data": {
      "text/html": [
       "<div>\n",
       "<style>\n",
       "    .dataframe thead tr:only-child th {\n",
       "        text-align: right;\n",
       "    }\n",
       "\n",
       "    .dataframe thead th {\n",
       "        text-align: left;\n",
       "    }\n",
       "\n",
       "    .dataframe tbody tr th {\n",
       "        vertical-align: top;\n",
       "    }\n",
       "</style>\n",
       "<table border=\"1\" class=\"dataframe\">\n",
       "  <thead>\n",
       "    <tr style=\"text-align: right;\">\n",
       "      <th></th>\n",
       "      <th>Minha</th>\n",
       "      <th>sklearn</th>\n",
       "    </tr>\n",
       "  </thead>\n",
       "  <tbody>\n",
       "    <tr>\n",
       "      <th>w0</th>\n",
       "      <td>0.228736</td>\n",
       "      <td>1.737712</td>\n",
       "    </tr>\n",
       "    <tr>\n",
       "      <th>w1</th>\n",
       "      <td>0.130082</td>\n",
       "      <td>0.103041</td>\n",
       "    </tr>\n",
       "    <tr>\n",
       "      <th>w2</th>\n",
       "      <td>0.115498</td>\n",
       "      <td>0.046437</td>\n",
       "    </tr>\n",
       "    <tr>\n",
       "      <th>w3</th>\n",
       "      <td>0.160663</td>\n",
       "      <td>0.164098</td>\n",
       "    </tr>\n",
       "    <tr>\n",
       "      <th>w4</th>\n",
       "      <td>0.457792</td>\n",
       "      <td>0.381178</td>\n",
       "    </tr>\n",
       "    <tr>\n",
       "      <th>w5</th>\n",
       "      <td>0.038848</td>\n",
       "      <td>0.020278</td>\n",
       "    </tr>\n",
       "  </tbody>\n",
       "</table>\n",
       "</div>"
      ],
      "text/plain": [
       "       Minha   sklearn\n",
       "w0  0.228736  1.737712\n",
       "w1  0.130082  0.103041\n",
       "w2  0.115498  0.046437\n",
       "w3  0.160663  0.164098\n",
       "w4  0.457792  0.381178\n",
       "w5  0.038848  0.020278"
      ]
     },
     "execution_count": 6,
     "metadata": {},
     "output_type": "execute_result"
    }
   ],
   "source": [
    "pd.DataFrame({\"sklearn\": sklearn_coeffs, \"Minha\": coeffs}, index=[\"w0\", \"w1\", \"w2\", \"w3\", \"w4\", \"w5\"])"
   ]
  },
  {
   "cell_type": "code",
   "execution_count": 7,
   "metadata": {},
   "outputs": [
    {
     "data": {
      "text/html": [
       "<div>\n",
       "<style>\n",
       "    .dataframe thead tr:only-child th {\n",
       "        text-align: right;\n",
       "    }\n",
       "\n",
       "    .dataframe thead th {\n",
       "        text-align: left;\n",
       "    }\n",
       "\n",
       "    .dataframe tbody tr th {\n",
       "        vertical-align: top;\n",
       "    }\n",
       "</style>\n",
       "<table border=\"1\" class=\"dataframe\">\n",
       "  <thead>\n",
       "    <tr style=\"text-align: right;\">\n",
       "      <th></th>\n",
       "      <th>Cálculo1</th>\n",
       "      <th>LPT</th>\n",
       "      <th>P1</th>\n",
       "      <th>IC</th>\n",
       "      <th>Cálculo2</th>\n",
       "      <th>cra</th>\n",
       "    </tr>\n",
       "  </thead>\n",
       "  <tbody>\n",
       "    <tr>\n",
       "      <th>0</th>\n",
       "      <td>8.7</td>\n",
       "      <td>10.0</td>\n",
       "      <td>9.0</td>\n",
       "      <td>9.1</td>\n",
       "      <td>8.4</td>\n",
       "      <td>8.477647</td>\n",
       "    </tr>\n",
       "    <tr>\n",
       "      <th>1</th>\n",
       "      <td>7.0</td>\n",
       "      <td>7.0</td>\n",
       "      <td>7.7</td>\n",
       "      <td>7.0</td>\n",
       "      <td>6.2</td>\n",
       "      <td>6.851724</td>\n",
       "    </tr>\n",
       "    <tr>\n",
       "      <th>2</th>\n",
       "      <td>8.6</td>\n",
       "      <td>9.8</td>\n",
       "      <td>7.9</td>\n",
       "      <td>9.6</td>\n",
       "      <td>8.7</td>\n",
       "      <td>9.090588</td>\n",
       "    </tr>\n",
       "    <tr>\n",
       "      <th>3</th>\n",
       "      <td>7.8</td>\n",
       "      <td>8.3</td>\n",
       "      <td>6.8</td>\n",
       "      <td>8.2</td>\n",
       "      <td>8.0</td>\n",
       "      <td>7.283516</td>\n",
       "    </tr>\n",
       "    <tr>\n",
       "      <th>4</th>\n",
       "      <td>5.2</td>\n",
       "      <td>9.3</td>\n",
       "      <td>5.0</td>\n",
       "      <td>8.5</td>\n",
       "      <td>5.0</td>\n",
       "      <td>7.205747</td>\n",
       "    </tr>\n",
       "  </tbody>\n",
       "</table>\n",
       "</div>"
      ],
      "text/plain": [
       "   Cálculo1   LPT   P1   IC  Cálculo2       cra\n",
       "0       8.7  10.0  9.0  9.1       8.4  8.477647\n",
       "1       7.0   7.0  7.7  7.0       6.2  6.851724\n",
       "2       8.6   9.8  7.9  9.6       8.7  9.090588\n",
       "3       7.8   8.3  6.8  8.2       8.0  7.283516\n",
       "4       5.2   9.3  5.0  8.5       5.0  7.205747"
      ]
     },
     "execution_count": 7,
     "metadata": {},
     "output_type": "execute_result"
    }
   ],
   "source": [
    "data = pd.read_csv(\"data/sample_treino.csv\")\n",
    "data.head()"
   ]
  }
 ],
 "metadata": {
  "anaconda-cloud": {},
  "kernelspec": {
   "display_name": "Python [conda root]",
   "language": "python",
   "name": "conda-root-py"
  },
  "language_info": {
   "codemirror_mode": {
    "name": "ipython",
    "version": 3
   },
   "file_extension": ".py",
   "mimetype": "text/x-python",
   "name": "python",
   "nbconvert_exporter": "python",
   "pygments_lexer": "ipython3",
   "version": "3.5.2"
  }
 },
 "nbformat": 4,
 "nbformat_minor": 2
}
